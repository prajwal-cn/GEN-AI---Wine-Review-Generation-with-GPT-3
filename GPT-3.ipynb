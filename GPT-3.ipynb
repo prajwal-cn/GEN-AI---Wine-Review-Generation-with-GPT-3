{
 "cells": [
  {
   "cell_type": "code",
   "execution_count": 61,
   "metadata": {},
   "outputs": [
    {
     "name": "stdout",
     "output_type": "stream",
     "text": [
      "The autoreload extension is already loaded. To reload it, use:\n",
      "  %reload_ext autoreload\n"
     ]
    }
   ],
   "source": [
    "%load_ext autoreload\n",
    "%autoreload 2\n",
    "import numpy as np\n",
    "import json\n",
    "import re\n",
    "import string\n",
    "from IPython.display import display, HTML\n",
    "\n",
    "import tensorflow as tf\n",
    "from tensorflow.keras import layers, models, losses, callbacks"
   ]
  },
  {
   "cell_type": "code",
   "execution_count": 62,
   "metadata": {},
   "outputs": [],
   "source": [
    "VOCAB_SIZE = 10000\n",
    "MAX_LEN = 80\n",
    "EMBEDDING_DIM = 256\n",
    "KEY_DIM = 256\n",
    "N_HEADS = 2\n",
    "FEED_FORWARD_DIM = 256\n",
    "VALIDATION_SPLIT = 0.2\n",
    "SEED = 42\n",
    "LOAD_MODEL = False\n",
    "BATCH_SIZE = 32\n",
    "EPOCHS = 1"
   ]
  },
  {
   "cell_type": "code",
   "execution_count": 63,
   "metadata": {},
   "outputs": [],
   "source": [
    "import os \n",
    "os.chdir(r'C:\\Users\\prajw\\OneDrive\\Desktop\\MLP')"
   ]
  },
  {
   "cell_type": "code",
   "execution_count": 64,
   "metadata": {},
   "outputs": [],
   "source": [
    "# Load the full dataset\n",
    "with open('winemag-data-130k-v2.json') as json_data:\n",
    "    wine_data = json.load(json_data)"
   ]
  },
  {
   "cell_type": "code",
   "execution_count": 65,
   "metadata": {},
   "outputs": [
    {
     "data": {
      "text/plain": [
       "{'points': '87',\n",
       " 'title': 'Kirkland Signature 2011 Mountain Cuvée Cabernet Sauvignon (Napa Valley)',\n",
       " 'description': 'Soft, supple plum envelopes an oaky structure in this Cabernet, supported by 15% Merlot. Coffee and chocolate complete the picture, finishing strong at the end, resulting in a value-priced wine of attractive flavor and immediate accessibility.',\n",
       " 'taster_name': 'Virginie Boone',\n",
       " 'taster_twitter_handle': '@vboone',\n",
       " 'price': 19,\n",
       " 'designation': 'Mountain Cuvée',\n",
       " 'variety': 'Cabernet Sauvignon',\n",
       " 'region_1': 'Napa Valley',\n",
       " 'region_2': 'Napa',\n",
       " 'province': 'California',\n",
       " 'country': 'US',\n",
       " 'winery': 'Kirkland Signature'}"
      ]
     },
     "execution_count": 65,
     "metadata": {},
     "output_type": "execute_result"
    }
   ],
   "source": [
    "wine_data[10]"
   ]
  },
  {
   "cell_type": "code",
   "execution_count": 66,
   "metadata": {},
   "outputs": [],
   "source": [
    "# Filter the dataset\n",
    "filtered_data = [\n",
    "    \"wine review : \"\n",
    "    + x[\"country\"]\n",
    "    + \" : \"\n",
    "    + x[\"province\"]\n",
    "    + \" : \"\n",
    "    + x[\"variety\"]\n",
    "    + \" : \"\n",
    "    + x[\"description\"]\n",
    "    for x in wine_data\n",
    "    if x[\"country\"] is not None\n",
    "    and x[\"province\"] is not None\n",
    "    and x[\"variety\"] is not None\n",
    "    and x[\"description\"] is not None\n",
    "]"
   ]
  },
  {
   "cell_type": "code",
   "execution_count": 67,
   "metadata": {},
   "outputs": [
    {
     "name": "stdout",
     "output_type": "stream",
     "text": [
      "129907 recipes loaded\n"
     ]
    }
   ],
   "source": [
    "# Count the recipes\n",
    "n_wines = len(filtered_data)\n",
    "print(f\"{n_wines} recipes loaded\")"
   ]
  },
  {
   "cell_type": "code",
   "execution_count": 68,
   "metadata": {},
   "outputs": [
    {
     "name": "stdout",
     "output_type": "stream",
     "text": [
      "wine review : US : California : Pinot Noir : Oak and earth intermingle around robust aromas of wet forest floor in this vineyard-designated Pinot that hails from a high-elevation site. Small in production, it offers intense, full-bodied raspberry and blackberry steeped in smoky spice and smooth texture.\n"
     ]
    }
   ],
   "source": [
    "example = filtered_data[25]\n",
    "print(example)"
   ]
  },
  {
   "cell_type": "code",
   "execution_count": 69,
   "metadata": {},
   "outputs": [],
   "source": [
    "# Pad the punctuation, to treat them as separate 'words'\n",
    "def pad_punctuation(s):\n",
    "    s = re.sub(f\"([{string.punctuation}, '\\n'])\", r\" \\1 \", s)\n",
    "    s = re.sub(\" +\", \" \", s)\n",
    "    return s\n",
    "\n",
    "\n",
    "text_data = [pad_punctuation(x) for x in filtered_data]"
   ]
  },
  {
   "cell_type": "code",
   "execution_count": 70,
   "metadata": {},
   "outputs": [
    {
     "data": {
      "text/plain": [
       "'wine review : US : California : Pinot Noir : Oak and earth intermingle around robust aromas of wet forest floor in this vineyard - designated Pinot that hails from a high - elevation site . Small in production , it offers intense , full - bodied raspberry and blackberry steeped in smoky spice and smooth texture . '"
      ]
     },
     "execution_count": 70,
     "metadata": {},
     "output_type": "execute_result"
    }
   ],
   "source": [
    "# Display an example of a recipe\n",
    "example_data = text_data[25]\n",
    "example_data"
   ]
  },
  {
   "cell_type": "code",
   "execution_count": 71,
   "metadata": {},
   "outputs": [],
   "source": [
    "# Convert to a Tensorflow Dataset\n",
    "text_ds = (\n",
    "    tf.data.Dataset.from_tensor_slices(text_data)\n",
    "    .batch(BATCH_SIZE)\n",
    "    .shuffle(1000)\n",
    ")"
   ]
  },
  {
   "cell_type": "code",
   "execution_count": 72,
   "metadata": {},
   "outputs": [],
   "source": [
    "# Create a vectorisation layer\n",
    "vectorize_layer = layers.TextVectorization(\n",
    "    standardize=\"lower\",\n",
    "    max_tokens=VOCAB_SIZE,\n",
    "    output_mode=\"int\",\n",
    "    output_sequence_length=MAX_LEN + 1,\n",
    ")"
   ]
  },
  {
   "cell_type": "code",
   "execution_count": 73,
   "metadata": {},
   "outputs": [],
   "source": [
    "# Adapt the layer to the training set\n",
    "vectorize_layer.adapt(text_ds)\n",
    "vocab = vectorize_layer.get_vocabulary()"
   ]
  },
  {
   "cell_type": "code",
   "execution_count": 74,
   "metadata": {},
   "outputs": [
    {
     "name": "stdout",
     "output_type": "stream",
     "text": [
      "0: \n",
      "1: [UNK]\n",
      "2: :\n",
      "3: ,\n",
      "4: .\n",
      "5: and\n",
      "6: the\n",
      "7: wine\n",
      "8: a\n",
      "9: of\n"
     ]
    }
   ],
   "source": [
    "# Display some token:word mappings\n",
    "for i, word in enumerate(vocab[:10]):\n",
    "    print(f\"{i}: {word}\")"
   ]
  },
  {
   "cell_type": "code",
   "execution_count": 75,
   "metadata": {},
   "outputs": [
    {
     "name": "stdout",
     "output_type": "stream",
     "text": [
      "[   7   10    2   20    2   29    2   43   62    2   55    5  243 4145\n",
      "  453  634   26    9  497  499  667   17   12  142   14 2214   43   25\n",
      " 2484   32    8  223   14 2213  948    4  594   17  987    3   15   75\n",
      "  237    3   64   14   82   97    5   74 2633   17  198   49    5  125\n",
      "   77    4    0    0    0    0    0    0    0    0    0    0    0    0\n",
      "    0    0    0    0    0    0    0    0    0    0    0]\n"
     ]
    }
   ],
   "source": [
    "# Display the same example converted to ints\n",
    "example_tokenised = vectorize_layer(example_data)\n",
    "print(example_tokenised.numpy())"
   ]
  },
  {
   "attachments": {},
   "cell_type": "markdown",
   "metadata": {},
   "source": [
    "### **Create the Training Set**"
   ]
  },
  {
   "cell_type": "code",
   "execution_count": 76,
   "metadata": {},
   "outputs": [],
   "source": [
    "# Create the training set of recipes and the same text shifted by one word\n",
    "def prepare_inputs(text):\n",
    "    text = tf.expand_dims(text, -1)\n",
    "    tokenized_sentences = vectorize_layer(text)\n",
    "    x = tokenized_sentences[:, :-1]\n",
    "    y = tokenized_sentences[:, 1:]\n",
    "    return x, y\n",
    "\n",
    "\n",
    "train_ds = text_ds.map(prepare_inputs)"
   ]
  },
  {
   "cell_type": "code",
   "execution_count": 77,
   "metadata": {},
   "outputs": [],
   "source": [
    "example_input_output = train_ds.take(1).get_single_element()"
   ]
  },
  {
   "cell_type": "code",
   "execution_count": 78,
   "metadata": {},
   "outputs": [
    {
     "data": {
      "text/plain": [
       "<tf.Tensor: shape=(80,), dtype=int64, numpy=\n",
       "array([   7,   10,    2,   20,    2,  103,    2,   65,   14,   63,   24,\n",
       "         27,    2,   12,  591,   14,  142,   27,   18,   21,   16, 1176,\n",
       "         84,  127,    6,  383,  366,  143,  166,  194,    4,   15, 5848,\n",
       "         91, 1887,   51,   15, 2772,   84,    6,  534,    3, 1773,   17,\n",
       "        243,    5,   37,  209,    3,   11,  866,    5,  159,   91, 1762,\n",
       "        188,   17,    6,  267,    1, 1843,    4,    0,    0,    0,    0,\n",
       "          0,    0,    0,    0,    0,    0,    0,    0,    0,    0,    0,\n",
       "          0,    0,    0], dtype=int64)>"
      ]
     },
     "execution_count": 78,
     "metadata": {},
     "output_type": "execute_result"
    }
   ],
   "source": [
    "# Example Input\n",
    "example_input_output[0][0]"
   ]
  },
  {
   "cell_type": "code",
   "execution_count": 79,
   "metadata": {},
   "outputs": [
    {
     "data": {
      "text/plain": [
       "<tf.Tensor: shape=(80,), dtype=int64, numpy=\n",
       "array([  10,    2,   20,    2,  103,    2,   65,   14,   63,   24,   27,\n",
       "          2,   12,  591,   14,  142,   27,   18,   21,   16, 1176,   84,\n",
       "        127,    6,  383,  366,  143,  166,  194,    4,   15, 5848,   91,\n",
       "       1887,   51,   15, 2772,   84,    6,  534,    3, 1773,   17,  243,\n",
       "          5,   37,  209,    3,   11,  866,    5,  159,   91, 1762,  188,\n",
       "         17,    6,  267,    1, 1843,    4,    0,    0,    0,    0,    0,\n",
       "          0,    0,    0,    0,    0,    0,    0,    0,    0,    0,    0,\n",
       "          0,    0,    0], dtype=int64)>"
      ]
     },
     "execution_count": 79,
     "metadata": {},
     "output_type": "execute_result"
    }
   ],
   "source": [
    "# Example Output (shifted by one token)\n",
    "example_input_output[1][0]"
   ]
  },
  {
   "attachments": {},
   "cell_type": "markdown",
   "metadata": {},
   "source": [
    "### **Create the causal attention mask function**"
   ]
  },
  {
   "cell_type": "code",
   "execution_count": 80,
   "metadata": {},
   "outputs": [
    {
     "data": {
      "text/plain": [
       "array([[1, 1, 1, 1, 1, 1, 1, 1, 1, 1],\n",
       "       [0, 1, 1, 1, 1, 1, 1, 1, 1, 1],\n",
       "       [0, 0, 1, 1, 1, 1, 1, 1, 1, 1],\n",
       "       [0, 0, 0, 1, 1, 1, 1, 1, 1, 1],\n",
       "       [0, 0, 0, 0, 1, 1, 1, 1, 1, 1],\n",
       "       [0, 0, 0, 0, 0, 1, 1, 1, 1, 1],\n",
       "       [0, 0, 0, 0, 0, 0, 1, 1, 1, 1],\n",
       "       [0, 0, 0, 0, 0, 0, 0, 1, 1, 1],\n",
       "       [0, 0, 0, 0, 0, 0, 0, 0, 1, 1],\n",
       "       [0, 0, 0, 0, 0, 0, 0, 0, 0, 1]])"
      ]
     },
     "execution_count": 80,
     "metadata": {},
     "output_type": "execute_result"
    }
   ],
   "source": [
    "def causal_attention_mask(batch_size, n_dest, n_src, dtype):\n",
    "    i = tf.range(n_dest)[:, None]\n",
    "    j = tf.range(n_src)\n",
    "    m = i >= j - n_src + n_dest\n",
    "    mask = tf.cast(m, dtype)\n",
    "    mask = tf.reshape(mask, [1, n_dest, n_src])\n",
    "    mult = tf.concat(\n",
    "        [tf.expand_dims(batch_size, -1), tf.constant([1, 1], dtype=tf.int32)], 0\n",
    "    )\n",
    "    return tf.tile(mask, mult)\n",
    "\n",
    "\n",
    "np.transpose(causal_attention_mask(1, 10, 10, dtype=tf.int32)[0])"
   ]
  },
  {
   "attachments": {},
   "cell_type": "markdown",
   "metadata": {},
   "source": [
    "### **Create a Transformer Block layer**"
   ]
  },
  {
   "cell_type": "code",
   "execution_count": 81,
   "metadata": {},
   "outputs": [],
   "source": [
    "class TransformerBlock(layers.Layer):\n",
    "    def __init__(self, num_heads, key_dim, embed_dim, ff_dim, dropout_rate=0.1):\n",
    "        super(TransformerBlock, self).__init__()\n",
    "        self.num_heads = num_heads\n",
    "        self.key_dim = key_dim\n",
    "        self.embed_dim = embed_dim\n",
    "        self.ff_dim = ff_dim\n",
    "        self.dropout_rate = dropout_rate\n",
    "        self.attn = layers.MultiHeadAttention(\n",
    "            num_heads, key_dim, output_shape=embed_dim\n",
    "        )\n",
    "        self.dropout_1 = layers.Dropout(self.dropout_rate)\n",
    "        self.ln_1 = layers.LayerNormalization(epsilon=1e-6)\n",
    "        self.ffn_1 = layers.Dense(self.ff_dim, activation=\"relu\")\n",
    "        self.ffn_2 = layers.Dense(self.embed_dim)\n",
    "        self.dropout_2 = layers.Dropout(self.dropout_rate)\n",
    "        self.ln_2 = layers.LayerNormalization(epsilon=1e-6)\n",
    "\n",
    "    def call(self, inputs):\n",
    "        input_shape = tf.shape(inputs)\n",
    "        batch_size = input_shape[0]\n",
    "        seq_len = input_shape[1]\n",
    "        causal_mask = causal_attention_mask(\n",
    "            batch_size, seq_len, seq_len, tf.bool\n",
    "        )\n",
    "        attention_output, attention_scores = self.attn(\n",
    "            inputs,\n",
    "            inputs,\n",
    "            attention_mask=causal_mask,\n",
    "            return_attention_scores=True,\n",
    "        )\n",
    "        attention_output = self.dropout_1(attention_output)\n",
    "        out1 = self.ln_1(inputs + attention_output)\n",
    "        ffn_1 = self.ffn_1(out1)\n",
    "        ffn_2 = self.ffn_2(ffn_1)\n",
    "        ffn_output = self.dropout_2(ffn_2)\n",
    "        return (self.ln_2(out1 + ffn_output), attention_scores)\n",
    "\n",
    "    def get_config(self):\n",
    "        config = super().get_config()\n",
    "        config.update(\n",
    "            {\n",
    "                \"key_dim\": self.key_dim,\n",
    "                \"embed_dim\": self.embed_dim,\n",
    "                \"num_heads\": self.num_heads,\n",
    "                \"ff_dim\": self.ff_dim,\n",
    "                \"dropout_rate\": self.dropout_rate,\n",
    "            }\n",
    "        )\n",
    "        return config"
   ]
  },
  {
   "attachments": {},
   "cell_type": "markdown",
   "metadata": {},
   "source": [
    "### **Create the Token and Position Embedding**"
   ]
  },
  {
   "cell_type": "code",
   "execution_count": 82,
   "metadata": {},
   "outputs": [],
   "source": [
    "class TokenAndPositionEmbedding(layers.Layer):\n",
    "    def __init__(self, max_len, vocab_size, embed_dim):\n",
    "        super(TokenAndPositionEmbedding, self).__init__()\n",
    "        self.max_len = max_len\n",
    "        self.vocab_size = vocab_size\n",
    "        self.embed_dim = embed_dim\n",
    "        self.token_emb = layers.Embedding(\n",
    "            input_dim=vocab_size, output_dim=embed_dim\n",
    "        )\n",
    "        self.pos_emb = layers.Embedding(input_dim=max_len, output_dim=embed_dim)\n",
    "\n",
    "    def call(self, x):\n",
    "        maxlen = tf.shape(x)[-1]\n",
    "        positions = tf.range(start=0, limit=maxlen, delta=1)\n",
    "        positions = self.pos_emb(positions)\n",
    "        x = self.token_emb(x)\n",
    "        return x + positions\n",
    "\n",
    "    def get_config(self):\n",
    "        config = super().get_config()\n",
    "        config.update(\n",
    "            {\n",
    "                \"max_len\": self.max_len,\n",
    "                \"vocab_size\": self.vocab_size,\n",
    "                \"embed_dim\": self.embed_dim,\n",
    "            }\n",
    "        )\n",
    "        return config"
   ]
  },
  {
   "attachments": {},
   "cell_type": "markdown",
   "metadata": {},
   "source": [
    "### **Build the Transformer model**"
   ]
  },
  {
   "cell_type": "code",
   "execution_count": 83,
   "metadata": {},
   "outputs": [],
   "source": [
    "inputs = layers.Input(shape=(None,), dtype=tf.int32)\n",
    "x = TokenAndPositionEmbedding(MAX_LEN, VOCAB_SIZE, EMBEDDING_DIM)(inputs)\n",
    "x, attention_scores = TransformerBlock(\n",
    "    N_HEADS, KEY_DIM, EMBEDDING_DIM, FEED_FORWARD_DIM\n",
    ")(x)\n",
    "outputs = layers.Dense(VOCAB_SIZE, activation=\"softmax\")(x)\n",
    "gpt = models.Model(inputs=inputs, outputs=[outputs, attention_scores])\n",
    "gpt.compile(\"adam\", loss=[losses.SparseCategoricalCrossentropy(), None])"
   ]
  },
  {
   "cell_type": "code",
   "execution_count": 84,
   "metadata": {},
   "outputs": [
    {
     "name": "stdout",
     "output_type": "stream",
     "text": [
      "Model: \"model_2\"\n",
      "_________________________________________________________________\n",
      " Layer (type)                Output Shape              Param #   \n",
      "=================================================================\n",
      " input_3 (InputLayer)        [(None, None)]            0         \n",
      "                                                                 \n",
      " token_and_position_embeddin  (None, None, 256)        2580480   \n",
      " g_2 (TokenAndPositionEmbedd                                     \n",
      " ing)                                                            \n",
      "                                                                 \n",
      " transformer_block_2 (Transf  ((None, None, 256),      658688    \n",
      " ormerBlock)                  (None, 2, None, None))             \n",
      "                                                                 \n",
      " dense_8 (Dense)             (None, None, 10000)       2570000   \n",
      "                                                                 \n",
      "=================================================================\n",
      "Total params: 5,809,168\n",
      "Trainable params: 5,809,168\n",
      "Non-trainable params: 0\n",
      "_________________________________________________________________\n"
     ]
    }
   ],
   "source": [
    "gpt.summary()"
   ]
  },
  {
   "cell_type": "code",
   "execution_count": 85,
   "metadata": {},
   "outputs": [],
   "source": [
    "if LOAD_MODEL:\n",
    "    # model.load_weights('./models/model')\n",
    "    gpt = models.load_model(\"./models/gpt\", compile=True)"
   ]
  },
  {
   "attachments": {},
   "cell_type": "markdown",
   "metadata": {},
   "source": [
    "#### **Train the Transformer**"
   ]
  },
  {
   "cell_type": "code",
   "execution_count": 86,
   "metadata": {},
   "outputs": [],
   "source": [
    "# Create a TextGenerator checkpoint\n",
    "class TextGenerator(callbacks.Callback):\n",
    "    def __init__(self, index_to_word, top_k=10):\n",
    "        self.index_to_word = index_to_word\n",
    "        self.word_to_index = {\n",
    "            word: index for index, word in enumerate(index_to_word)\n",
    "        }\n",
    "\n",
    "    def sample_from(self, probs, temperature):\n",
    "        probs = probs ** (1 / temperature)\n",
    "        probs = probs / np.sum(probs)\n",
    "        return np.random.choice(len(probs), p=probs), probs\n",
    "\n",
    "    def generate(self, start_prompt, max_tokens, temperature):\n",
    "        start_tokens = [\n",
    "            self.word_to_index.get(x, 1) for x in start_prompt.split()\n",
    "        ]\n",
    "        sample_token = None\n",
    "        info = []\n",
    "        while len(start_tokens) < max_tokens and sample_token != 0:\n",
    "            x = np.array([start_tokens])\n",
    "            y, att = self.model.predict(x, verbose=0)\n",
    "            sample_token, probs = self.sample_from(y[0][-1], temperature)\n",
    "            info.append(\n",
    "                {\n",
    "                    \"prompt\": start_prompt,\n",
    "                    \"word_probs\": probs,\n",
    "                    \"atts\": att[0, :, -1, :],\n",
    "                }\n",
    "            )\n",
    "            start_tokens.append(sample_token)\n",
    "            start_prompt = start_prompt + \" \" + self.index_to_word[sample_token]\n",
    "        print(f\"\\ngenerated text:\\n{start_prompt}\\n\")\n",
    "        return info\n",
    "\n",
    "    def on_epoch_end(self, epoch, logs=None):\n",
    "        self.generate(\"wine review\", max_tokens=80, temperature=1.0)"
   ]
  },
  {
   "cell_type": "code",
   "execution_count": 87,
   "metadata": {},
   "outputs": [],
   "source": [
    "# Create a model save checkpoint\n",
    "model_checkpoint_callback = callbacks.ModelCheckpoint(\n",
    "    filepath=\"./checkpoint/checkpoint.ckpt\",\n",
    "    save_weights_only=True,\n",
    "    save_freq=\"epoch\",\n",
    "    verbose=0,\n",
    ")\n",
    "\n",
    "tensorboard_callback = callbacks.TensorBoard(log_dir=\"./logs\")\n",
    "\n",
    "# Tokenize starting prompt\n",
    "text_generator = TextGenerator(vocab)"
   ]
  },
  {
   "cell_type": "code",
   "execution_count": 88,
   "metadata": {},
   "outputs": [
    {
     "name": "stdout",
     "output_type": "stream",
     "text": [
      "4060/4060 [==============================] - ETA: 0s - loss: 2.2500 - dense_8_loss: 2.2500\n",
      "generated text:\n",
      "wine review : argentina : mendoza province : chardonnay : woody , sticky peach , apple and melon aromas register as a mild straw mouthfeel is just flabby . the palate feels ripe and good . bland on a waxy , toasty , pineapple and citrus flavors are less known in santa traditional or zap . lasting on the lees aging has staunch acids on the bouquet along with white - fruit flavors . \n",
      "\n",
      "4060/4060 [==============================] - 3061s 753ms/step - loss: 2.2500 - dense_8_loss: 2.2500\n"
     ]
    },
    {
     "data": {
      "text/plain": [
       "<keras.callbacks.History at 0x1a8d4f23f40>"
      ]
     },
     "execution_count": 88,
     "metadata": {},
     "output_type": "execute_result"
    }
   ],
   "source": [
    "gpt.fit(\n",
    "    train_ds,\n",
    "    epochs=EPOCHS,\n",
    "    callbacks=[model_checkpoint_callback, tensorboard_callback, text_generator],\n",
    ")"
   ]
  },
  {
   "cell_type": "code",
   "execution_count": 89,
   "metadata": {},
   "outputs": [
    {
     "name": "stderr",
     "output_type": "stream",
     "text": [
      "WARNING:absl:Found untraced functions such as embedding_4_layer_call_fn, embedding_4_layer_call_and_return_conditional_losses, embedding_5_layer_call_fn, embedding_5_layer_call_and_return_conditional_losses, multi_head_attention_2_layer_call_fn while saving (showing 5 of 30). These functions will not be directly callable after loading.\n"
     ]
    },
    {
     "name": "stdout",
     "output_type": "stream",
     "text": [
      "INFO:tensorflow:Assets written to: ./models/gpt\\assets\n"
     ]
    },
    {
     "name": "stderr",
     "output_type": "stream",
     "text": [
      "INFO:tensorflow:Assets written to: ./models/gpt\\assets\n"
     ]
    }
   ],
   "source": [
    "# Save the final model\n",
    "gpt.save(\"./models/gpt\")"
   ]
  },
  {
   "attachments": {},
   "cell_type": "markdown",
   "metadata": {},
   "source": [
    "### **Generate text using the Transformer**"
   ]
  },
  {
   "cell_type": "code",
   "execution_count": 90,
   "metadata": {},
   "outputs": [],
   "source": [
    "def print_probs(info, vocab, top_k=5):\n",
    "    for i in info:\n",
    "        highlighted_text = []\n",
    "        for word, att_score in zip(\n",
    "            i[\"prompt\"].split(), np.mean(i[\"atts\"], axis=0)\n",
    "        ):\n",
    "            highlighted_text.append(\n",
    "                '<span style=\"background-color:rgba(135,206,250,'\n",
    "                + str(att_score / max(np.mean(i[\"atts\"], axis=0)))\n",
    "                + ');\">'\n",
    "                + word\n",
    "                + \"</span>\"\n",
    "            )\n",
    "        highlighted_text = \" \".join(highlighted_text)\n",
    "        display(HTML(highlighted_text))\n",
    "\n",
    "        word_probs = i[\"word_probs\"]\n",
    "        p_sorted = np.sort(word_probs)[::-1][:top_k]\n",
    "        i_sorted = np.argsort(word_probs)[::-1][:top_k]\n",
    "        for p, i in zip(p_sorted, i_sorted):\n",
    "            print(f\"{vocab[i]}:   \\t{np.round(100*p,2)}%\")\n",
    "        print(\"--------\\n\")"
   ]
  },
  {
   "cell_type": "code",
   "execution_count": 91,
   "metadata": {},
   "outputs": [
    {
     "name": "stdout",
     "output_type": "stream",
     "text": [
      "\n",
      "generated text:\n",
      "wine review : us : oregon : chardonnay : this effort is a lot hybrid ' s current release here if the reserve level was not for all , but flavorful price . thin as a look implies [UNK] . \n",
      "\n"
     ]
    }
   ],
   "source": [
    "info = text_generator.generate(\n",
    "    \"wine review : us\", max_tokens=80, temperature=1.0\n",
    ")"
   ]
  },
  {
   "cell_type": "code",
   "execution_count": 92,
   "metadata": {},
   "outputs": [
    {
     "name": "stdout",
     "output_type": "stream",
     "text": [
      "\n",
      "generated text:\n",
      "wine review : italy : piedmont : nebbiolo : this offers aromas of underbrush , scorched earth , game and a whiff of barnyard . the palate offers raw red cherry , star anise , sage and a hint of licorice alongside astringent , astringent tannins . \n",
      "\n"
     ]
    }
   ],
   "source": [
    "info = text_generator.generate(\n",
    "    \"wine review : italy\", max_tokens=80, temperature=0.5\n",
    ")"
   ]
  },
  {
   "cell_type": "code",
   "execution_count": 93,
   "metadata": {},
   "outputs": [
    {
     "name": "stdout",
     "output_type": "stream",
     "text": [
      "\n",
      "generated text:\n",
      "wine review : germany : mosel : riesling : a whiff of petrol leads to a slightly sweet , slightly bitter almond flavors on the palate of this off - dry wine . a bit bitter on the finish . \n",
      "\n"
     ]
    },
    {
     "data": {
      "text/html": [
       "<span style=\"background-color:rgba(135,206,250,0.8677521);\">wine</span> <span style=\"background-color:rgba(135,206,250,1.0);\">review</span> <span style=\"background-color:rgba(135,206,250,0.71161544);\">:</span> <span style=\"background-color:rgba(135,206,250,0.32697523);\">germany</span>"
      ],
      "text/plain": [
       "<IPython.core.display.HTML object>"
      ]
     },
     "metadata": {},
     "output_type": "display_data"
    },
    {
     "name": "stdout",
     "output_type": "stream",
     "text": [
      "::   \t100.0%\n",
      "-:   \t0.0%\n",
      "blend:   \t0.0%\n",
      "grosso:   \t0.0%\n",
      "zealand:   \t0.0%\n",
      "--------\n",
      "\n"
     ]
    },
    {
     "data": {
      "text/html": [
       "<span style=\"background-color:rgba(135,206,250,0.3031613);\">wine</span> <span style=\"background-color:rgba(135,206,250,0.3157727);\">review</span> <span style=\"background-color:rgba(135,206,250,0.47253326);\">:</span> <span style=\"background-color:rgba(135,206,250,1.0);\">germany</span> <span style=\"background-color:rgba(135,206,250,0.3133604);\">:</span>"
      ],
      "text/plain": [
       "<IPython.core.display.HTML object>"
      ]
     },
     "metadata": {},
     "output_type": "display_data"
    },
    {
     "name": "stdout",
     "output_type": "stream",
     "text": [
      "mosel:   \t71.72%\n",
      "rheinhessen:   \t20.66%\n",
      "pfalz:   \t4.87%\n",
      "rheingau:   \t1.59%\n",
      "nahe:   \t0.57%\n",
      "--------\n",
      "\n"
     ]
    },
    {
     "data": {
      "text/html": [
       "<span style=\"background-color:rgba(135,206,250,1.0);\">wine</span> <span style=\"background-color:rgba(135,206,250,0.9592);\">review</span> <span style=\"background-color:rgba(135,206,250,0.64818984);\">:</span> <span style=\"background-color:rgba(135,206,250,0.37252864);\">germany</span> <span style=\"background-color:rgba(135,206,250,0.88672674);\">:</span> <span style=\"background-color:rgba(135,206,250,0.49927813);\">mosel</span>"
      ],
      "text/plain": [
       "<IPython.core.display.HTML object>"
      ]
     },
     "metadata": {},
     "output_type": "display_data"
    },
    {
     "name": "stdout",
     "output_type": "stream",
     "text": [
      "::   \t99.96%\n",
      "-:   \t0.04%\n",
      "other:   \t0.0%\n",
      ",:   \t0.0%\n",
      "grosso:   \t0.0%\n",
      "--------\n",
      "\n"
     ]
    },
    {
     "data": {
      "text/html": [
       "<span style=\"background-color:rgba(135,206,250,0.2981226);\">wine</span> <span style=\"background-color:rgba(135,206,250,0.3096407);\">review</span> <span style=\"background-color:rgba(135,206,250,0.32664388);\">:</span> <span style=\"background-color:rgba(135,206,250,0.4962647);\">germany</span> <span style=\"background-color:rgba(135,206,250,0.24078679);\">:</span> <span style=\"background-color:rgba(135,206,250,1.0);\">mosel</span> <span style=\"background-color:rgba(135,206,250,0.29079604);\">:</span>"
      ],
      "text/plain": [
       "<IPython.core.display.HTML object>"
      ]
     },
     "metadata": {},
     "output_type": "display_data"
    },
    {
     "name": "stdout",
     "output_type": "stream",
     "text": [
      "riesling:   \t99.99%\n",
      "dornfelder:   \t0.01%\n",
      "pinot:   \t0.0%\n",
      "gewürztraminer:   \t0.0%\n",
      "cabernet:   \t0.0%\n",
      "--------\n",
      "\n"
     ]
    },
    {
     "data": {
      "text/html": [
       "<span style=\"background-color:rgba(135,206,250,0.8410657);\">wine</span> <span style=\"background-color:rgba(135,206,250,1.0);\">review</span> <span style=\"background-color:rgba(135,206,250,0.61057806);\">:</span> <span style=\"background-color:rgba(135,206,250,0.3031906);\">germany</span> <span style=\"background-color:rgba(135,206,250,0.8717116);\">:</span> <span style=\"background-color:rgba(135,206,250,0.596716);\">mosel</span> <span style=\"background-color:rgba(135,206,250,0.7267115);\">:</span> <span style=\"background-color:rgba(135,206,250,0.31470928);\">riesling</span>"
      ],
      "text/plain": [
       "<IPython.core.display.HTML object>"
      ]
     },
     "metadata": {},
     "output_type": "display_data"
    },
    {
     "name": "stdout",
     "output_type": "stream",
     "text": [
      "::   \t100.0%\n",
      "-:   \t0.0%\n",
      "blanc:   \t0.0%\n",
      "blend:   \t0.0%\n",
      "grosso:   \t0.0%\n",
      "--------\n",
      "\n"
     ]
    },
    {
     "data": {
      "text/html": [
       "<span style=\"background-color:rgba(135,206,250,0.6714852);\">wine</span> <span style=\"background-color:rgba(135,206,250,0.6356453);\">review</span> <span style=\"background-color:rgba(135,206,250,0.4796792);\">:</span> <span style=\"background-color:rgba(135,206,250,0.665576);\">germany</span> <span style=\"background-color:rgba(135,206,250,0.4954701);\">:</span> <span style=\"background-color:rgba(135,206,250,1.0);\">mosel</span> <span style=\"background-color:rgba(135,206,250,0.5135852);\">:</span> <span style=\"background-color:rgba(135,206,250,0.7145768);\">riesling</span> <span style=\"background-color:rgba(135,206,250,0.69363654);\">:</span>"
      ],
      "text/plain": [
       "<IPython.core.display.HTML object>"
      ]
     },
     "metadata": {},
     "output_type": "display_data"
    },
    {
     "name": "stdout",
     "output_type": "stream",
     "text": [
      "a:   \t43.13%\n",
      "dusty:   \t10.52%\n",
      "while:   \t9.09%\n",
      "whiffs:   \t7.42%\n",
      "the:   \t5.44%\n",
      "--------\n",
      "\n"
     ]
    },
    {
     "data": {
      "text/html": [
       "<span style=\"background-color:rgba(135,206,250,1.0);\">wine</span> <span style=\"background-color:rgba(135,206,250,0.7690244);\">review</span> <span style=\"background-color:rgba(135,206,250,0.52887297);\">:</span> <span style=\"background-color:rgba(135,206,250,0.75876874);\">germany</span> <span style=\"background-color:rgba(135,206,250,0.55983716);\">:</span> <span style=\"background-color:rgba(135,206,250,0.6112177);\">mosel</span> <span style=\"background-color:rgba(135,206,250,0.5008725);\">:</span> <span style=\"background-color:rgba(135,206,250,0.65734494);\">riesling</span> <span style=\"background-color:rgba(135,206,250,0.6074704);\">:</span> <span style=\"background-color:rgba(135,206,250,0.6067254);\">a</span>"
      ],
      "text/plain": [
       "<IPython.core.display.HTML object>"
      ]
     },
     "metadata": {},
     "output_type": "display_data"
    },
    {
     "name": "stdout",
     "output_type": "stream",
     "text": [
      "whiff:   \t44.26%\n",
      "bit:   \t25.68%\n",
      "hint:   \t8.59%\n",
      "delicate:   \t3.44%\n",
      "slightly:   \t1.97%\n",
      "--------\n",
      "\n"
     ]
    },
    {
     "data": {
      "text/html": [
       "<span style=\"background-color:rgba(135,206,250,0.7417663);\">wine</span> <span style=\"background-color:rgba(135,206,250,0.9210098);\">review</span> <span style=\"background-color:rgba(135,206,250,0.428062);\">:</span> <span style=\"background-color:rgba(135,206,250,0.2937632);\">germany</span> <span style=\"background-color:rgba(135,206,250,0.70334446);\">:</span> <span style=\"background-color:rgba(135,206,250,0.29459193);\">mosel</span> <span style=\"background-color:rgba(135,206,250,0.54365253);\">:</span> <span style=\"background-color:rgba(135,206,250,0.2681565);\">riesling</span> <span style=\"background-color:rgba(135,206,250,0.6387551);\">:</span> <span style=\"background-color:rgba(135,206,250,1.0);\">a</span> <span style=\"background-color:rgba(135,206,250,0.75566846);\">whiff</span>"
      ],
      "text/plain": [
       "<IPython.core.display.HTML object>"
      ]
     },
     "metadata": {},
     "output_type": "display_data"
    },
    {
     "name": "stdout",
     "output_type": "stream",
     "text": [
      "of:   \t100.0%\n",
      "to:   \t0.0%\n",
      "from:   \t0.0%\n",
      "[UNK]:   \t0.0%\n",
      "for:   \t0.0%\n",
      "--------\n",
      "\n"
     ]
    },
    {
     "data": {
      "text/html": [
       "<span style=\"background-color:rgba(135,206,250,0.26149938);\">wine</span> <span style=\"background-color:rgba(135,206,250,0.23847811);\">review</span> <span style=\"background-color:rgba(135,206,250,0.1755601);\">:</span> <span style=\"background-color:rgba(135,206,250,0.28405213);\">germany</span> <span style=\"background-color:rgba(135,206,250,0.16420625);\">:</span> <span style=\"background-color:rgba(135,206,250,0.23829155);\">mosel</span> <span style=\"background-color:rgba(135,206,250,0.16120422);\">:</span> <span style=\"background-color:rgba(135,206,250,0.37270686);\">riesling</span> <span style=\"background-color:rgba(135,206,250,0.20301776);\">:</span> <span style=\"background-color:rgba(135,206,250,0.3453097);\">a</span> <span style=\"background-color:rgba(135,206,250,1.0);\">whiff</span> <span style=\"background-color:rgba(135,206,250,0.2625505);\">of</span>"
      ],
      "text/plain": [
       "<IPython.core.display.HTML object>"
      ]
     },
     "metadata": {},
     "output_type": "display_data"
    },
    {
     "name": "stdout",
     "output_type": "stream",
     "text": [
      "petrol:   \t67.69%\n",
      "struck:   \t6.08%\n",
      "smoke:   \t4.42%\n",
      "dusty:   \t2.61%\n",
      "dried:   \t1.74%\n",
      "--------\n",
      "\n"
     ]
    },
    {
     "data": {
      "text/html": [
       "<span style=\"background-color:rgba(135,206,250,0.6145449);\">wine</span> <span style=\"background-color:rgba(135,206,250,0.54260314);\">review</span> <span style=\"background-color:rgba(135,206,250,0.28051057);\">:</span> <span style=\"background-color:rgba(135,206,250,0.34117445);\">germany</span> <span style=\"background-color:rgba(135,206,250,0.45796883);\">:</span> <span style=\"background-color:rgba(135,206,250,0.20721059);\">mosel</span> <span style=\"background-color:rgba(135,206,250,0.37817505);\">:</span> <span style=\"background-color:rgba(135,206,250,0.18234839);\">riesling</span> <span style=\"background-color:rgba(135,206,250,0.37341487);\">:</span> <span style=\"background-color:rgba(135,206,250,0.6922881);\">a</span> <span style=\"background-color:rgba(135,206,250,1.0);\">whiff</span> <span style=\"background-color:rgba(135,206,250,0.87559325);\">of</span> <span style=\"background-color:rgba(135,206,250,0.578551);\">petrol</span>"
      ],
      "text/plain": [
       "<IPython.core.display.HTML object>"
      ]
     },
     "metadata": {},
     "output_type": "display_data"
    },
    {
     "name": "stdout",
     "output_type": "stream",
     "text": [
      "leads:   \t29.07%\n",
      "lends:   \t25.17%\n",
      ",:   \t17.27%\n",
      "and:   \t5.88%\n",
      "are:   \t5.43%\n",
      "--------\n",
      "\n"
     ]
    },
    {
     "data": {
      "text/html": [
       "<span style=\"background-color:rgba(135,206,250,0.6004962);\">wine</span> <span style=\"background-color:rgba(135,206,250,0.58724135);\">review</span> <span style=\"background-color:rgba(135,206,250,0.31249186);\">:</span> <span style=\"background-color:rgba(135,206,250,0.31231442);\">germany</span> <span style=\"background-color:rgba(135,206,250,0.4348791);\">:</span> <span style=\"background-color:rgba(135,206,250,0.27078953);\">mosel</span> <span style=\"background-color:rgba(135,206,250,0.37789983);\">:</span> <span style=\"background-color:rgba(135,206,250,0.27613047);\">riesling</span> <span style=\"background-color:rgba(135,206,250,0.46776083);\">:</span> <span style=\"background-color:rgba(135,206,250,0.79510015);\">a</span> <span style=\"background-color:rgba(135,206,250,0.8353568);\">whiff</span> <span style=\"background-color:rgba(135,206,250,1.0);\">of</span> <span style=\"background-color:rgba(135,206,250,0.82840747);\">petrol</span> <span style=\"background-color:rgba(135,206,250,0.9662947);\">leads</span>"
      ],
      "text/plain": [
       "<IPython.core.display.HTML object>"
      ]
     },
     "metadata": {},
     "output_type": "display_data"
    },
    {
     "name": "stdout",
     "output_type": "stream",
     "text": [
      "to:   \t80.27%\n",
      "the:   \t10.76%\n",
      "into:   \t4.63%\n",
      "onto:   \t1.67%\n",
      "with:   \t1.62%\n",
      "--------\n",
      "\n"
     ]
    },
    {
     "data": {
      "text/html": [
       "<span style=\"background-color:rgba(135,206,250,0.1633834);\">wine</span> <span style=\"background-color:rgba(135,206,250,0.15416306);\">review</span> <span style=\"background-color:rgba(135,206,250,0.10246608);\">:</span> <span style=\"background-color:rgba(135,206,250,0.15717722);\">germany</span> <span style=\"background-color:rgba(135,206,250,0.11559012);\">:</span> <span style=\"background-color:rgba(135,206,250,0.10943923);\">mosel</span> <span style=\"background-color:rgba(135,206,250,0.10686911);\">:</span> <span style=\"background-color:rgba(135,206,250,0.10589495);\">riesling</span> <span style=\"background-color:rgba(135,206,250,0.104545325);\">:</span> <span style=\"background-color:rgba(135,206,250,0.112118244);\">a</span> <span style=\"background-color:rgba(135,206,250,0.23682015);\">whiff</span> <span style=\"background-color:rgba(135,206,250,0.119038);\">of</span> <span style=\"background-color:rgba(135,206,250,0.26594856);\">petrol</span> <span style=\"background-color:rgba(135,206,250,1.0);\">leads</span> <span style=\"background-color:rgba(135,206,250,0.11777898);\">to</span>"
      ],
      "text/plain": [
       "<IPython.core.display.HTML object>"
      ]
     },
     "metadata": {},
     "output_type": "display_data"
    },
    {
     "name": "stdout",
     "output_type": "stream",
     "text": [
      "a:   \t99.61%\n",
      "the:   \t0.12%\n",
      "an:   \t0.08%\n",
      "fresh:   \t0.06%\n",
      "sweet:   \t0.05%\n",
      "--------\n",
      "\n"
     ]
    },
    {
     "data": {
      "text/html": [
       "<span style=\"background-color:rgba(135,206,250,0.2233926);\">wine</span> <span style=\"background-color:rgba(135,206,250,0.17760399);\">review</span> <span style=\"background-color:rgba(135,206,250,0.1644985);\">:</span> <span style=\"background-color:rgba(135,206,250,0.3635137);\">germany</span> <span style=\"background-color:rgba(135,206,250,0.13846844);\">:</span> <span style=\"background-color:rgba(135,206,250,0.21527226);\">mosel</span> <span style=\"background-color:rgba(135,206,250,0.13573433);\">:</span> <span style=\"background-color:rgba(135,206,250,0.29469222);\">riesling</span> <span style=\"background-color:rgba(135,206,250,0.1591178);\">:</span> <span style=\"background-color:rgba(135,206,250,0.12157969);\">a</span> <span style=\"background-color:rgba(135,206,250,0.44840938);\">whiff</span> <span style=\"background-color:rgba(135,206,250,0.2637629);\">of</span> <span style=\"background-color:rgba(135,206,250,0.58630353);\">petrol</span> <span style=\"background-color:rgba(135,206,250,1.0);\">leads</span> <span style=\"background-color:rgba(135,206,250,0.5159682);\">to</span> <span style=\"background-color:rgba(135,206,250,0.25079527);\">a</span>"
      ],
      "text/plain": [
       "<IPython.core.display.HTML object>"
      ]
     },
     "metadata": {},
     "output_type": "display_data"
    },
    {
     "name": "stdout",
     "output_type": "stream",
     "text": [
      "slightly:   \t43.11%\n",
      "fresh:   \t10.36%\n",
      "sweet:   \t8.58%\n",
      "palate:   \t4.51%\n",
      "nose:   \t4.13%\n",
      "--------\n",
      "\n"
     ]
    },
    {
     "data": {
      "text/html": [
       "<span style=\"background-color:rgba(135,206,250,0.38903862);\">wine</span> <span style=\"background-color:rgba(135,206,250,0.37252897);\">review</span> <span style=\"background-color:rgba(135,206,250,0.35484266);\">:</span> <span style=\"background-color:rgba(135,206,250,0.5706489);\">germany</span> <span style=\"background-color:rgba(135,206,250,0.31985587);\">:</span> <span style=\"background-color:rgba(135,206,250,0.34716287);\">mosel</span> <span style=\"background-color:rgba(135,206,250,0.32374012);\">:</span> <span style=\"background-color:rgba(135,206,250,0.49789703);\">riesling</span> <span style=\"background-color:rgba(135,206,250,0.31242517);\">:</span> <span style=\"background-color:rgba(135,206,250,0.24485339);\">a</span> <span style=\"background-color:rgba(135,206,250,0.5075631);\">whiff</span> <span style=\"background-color:rgba(135,206,250,0.40013996);\">of</span> <span style=\"background-color:rgba(135,206,250,0.937626);\">petrol</span> <span style=\"background-color:rgba(135,206,250,1.0);\">leads</span> <span style=\"background-color:rgba(135,206,250,0.62624097);\">to</span> <span style=\"background-color:rgba(135,206,250,0.48213986);\">a</span> <span style=\"background-color:rgba(135,206,250,0.5625704);\">slightly</span>"
      ],
      "text/plain": [
       "<IPython.core.display.HTML object>"
      ]
     },
     "metadata": {},
     "output_type": "display_data"
    },
    {
     "name": "stdout",
     "output_type": "stream",
     "text": [
      "off:   \t31.91%\n",
      "sweet:   \t29.82%\n",
      "bitter:   \t19.65%\n",
      "dusty:   \t4.56%\n",
      "waxy:   \t3.72%\n",
      "--------\n",
      "\n"
     ]
    },
    {
     "data": {
      "text/html": [
       "<span style=\"background-color:rgba(135,206,250,0.2728649);\">wine</span> <span style=\"background-color:rgba(135,206,250,0.24086757);\">review</span> <span style=\"background-color:rgba(135,206,250,0.20678225);\">:</span> <span style=\"background-color:rgba(135,206,250,0.5151416);\">germany</span> <span style=\"background-color:rgba(135,206,250,0.16676901);\">:</span> <span style=\"background-color:rgba(135,206,250,0.2520326);\">mosel</span> <span style=\"background-color:rgba(135,206,250,0.18841928);\">:</span> <span style=\"background-color:rgba(135,206,250,0.6703605);\">riesling</span> <span style=\"background-color:rgba(135,206,250,0.2264523);\">:</span> <span style=\"background-color:rgba(135,206,250,0.24228525);\">a</span> <span style=\"background-color:rgba(135,206,250,0.5659996);\">whiff</span> <span style=\"background-color:rgba(135,206,250,0.3099407);\">of</span> <span style=\"background-color:rgba(135,206,250,0.4730211);\">petrol</span> <span style=\"background-color:rgba(135,206,250,0.73179615);\">leads</span> <span style=\"background-color:rgba(135,206,250,0.45953888);\">to</span> <span style=\"background-color:rgba(135,206,250,1.0);\">a</span> <span style=\"background-color:rgba(135,206,250,0.5857413);\">slightly</span> <span style=\"background-color:rgba(135,206,250,0.43338716);\">sweet</span>"
      ],
      "text/plain": [
       "<IPython.core.display.HTML object>"
      ]
     },
     "metadata": {},
     "output_type": "display_data"
    },
    {
     "name": "stdout",
     "output_type": "stream",
     "text": [
      ",:   \t98.43%\n",
      "palate:   \t0.27%\n",
      "and:   \t0.24%\n",
      "nose:   \t0.24%\n",
      "-:   \t0.19%\n",
      "--------\n",
      "\n"
     ]
    },
    {
     "data": {
      "text/html": [
       "<span style=\"background-color:rgba(135,206,250,0.21793945);\">wine</span> <span style=\"background-color:rgba(135,206,250,0.21762516);\">review</span> <span style=\"background-color:rgba(135,206,250,0.17265481);\">:</span> <span style=\"background-color:rgba(135,206,250,0.5580613);\">germany</span> <span style=\"background-color:rgba(135,206,250,0.13734472);\">:</span> <span style=\"background-color:rgba(135,206,250,0.20607953);\">mosel</span> <span style=\"background-color:rgba(135,206,250,0.16662227);\">:</span> <span style=\"background-color:rgba(135,206,250,0.4726704);\">riesling</span> <span style=\"background-color:rgba(135,206,250,0.20595427);\">:</span> <span style=\"background-color:rgba(135,206,250,0.17148092);\">a</span> <span style=\"background-color:rgba(135,206,250,0.41657108);\">whiff</span> <span style=\"background-color:rgba(135,206,250,0.2011808);\">of</span> <span style=\"background-color:rgba(135,206,250,0.48833513);\">petrol</span> <span style=\"background-color:rgba(135,206,250,0.5214882);\">leads</span> <span style=\"background-color:rgba(135,206,250,0.31667152);\">to</span> <span style=\"background-color:rgba(135,206,250,0.5530086);\">a</span> <span style=\"background-color:rgba(135,206,250,0.47041446);\">slightly</span> <span style=\"background-color:rgba(135,206,250,1.0);\">sweet</span> <span style=\"background-color:rgba(135,206,250,0.48109564);\">,</span>"
      ],
      "text/plain": [
       "<IPython.core.display.HTML object>"
      ]
     },
     "metadata": {},
     "output_type": "display_data"
    },
    {
     "name": "stdout",
     "output_type": "stream",
     "text": [
      "slightly:   \t74.83%\n",
      "off:   \t3.23%\n",
      "intensely:   \t2.8%\n",
      "savory:   \t2.66%\n",
      "herbaceous:   \t1.32%\n",
      "--------\n",
      "\n"
     ]
    },
    {
     "data": {
      "text/html": [
       "<span style=\"background-color:rgba(135,206,250,0.34724307);\">wine</span> <span style=\"background-color:rgba(135,206,250,0.33391446);\">review</span> <span style=\"background-color:rgba(135,206,250,0.38765642);\">:</span> <span style=\"background-color:rgba(135,206,250,0.74540406);\">germany</span> <span style=\"background-color:rgba(135,206,250,0.3040331);\">:</span> <span style=\"background-color:rgba(135,206,250,0.374777);\">mosel</span> <span style=\"background-color:rgba(135,206,250,0.32814312);\">:</span> <span style=\"background-color:rgba(135,206,250,0.5867089);\">riesling</span> <span style=\"background-color:rgba(135,206,250,0.3012521);\">:</span> <span style=\"background-color:rgba(135,206,250,0.20468056);\">a</span> <span style=\"background-color:rgba(135,206,250,0.41135314);\">whiff</span> <span style=\"background-color:rgba(135,206,250,0.28808483);\">of</span> <span style=\"background-color:rgba(135,206,250,0.6321295);\">petrol</span> <span style=\"background-color:rgba(135,206,250,0.73602086);\">leads</span> <span style=\"background-color:rgba(135,206,250,0.3897191);\">to</span> <span style=\"background-color:rgba(135,206,250,0.31665865);\">a</span> <span style=\"background-color:rgba(135,206,250,0.363379);\">slightly</span> <span style=\"background-color:rgba(135,206,250,1.0);\">sweet</span> <span style=\"background-color:rgba(135,206,250,0.93471944);\">,</span> <span style=\"background-color:rgba(135,206,250,0.6829301);\">slightly</span>"
      ],
      "text/plain": [
       "<IPython.core.display.HTML object>"
      ]
     },
     "metadata": {},
     "output_type": "display_data"
    },
    {
     "name": "stdout",
     "output_type": "stream",
     "text": [
      "bitter:   \t50.14%\n",
      "sweet:   \t27.12%\n",
      "sour:   \t4.93%\n",
      "waxy:   \t4.86%\n",
      "off:   \t4.35%\n",
      "--------\n",
      "\n"
     ]
    },
    {
     "data": {
      "text/html": [
       "<span style=\"background-color:rgba(135,206,250,0.21782239);\">wine</span> <span style=\"background-color:rgba(135,206,250,0.19647752);\">review</span> <span style=\"background-color:rgba(135,206,250,0.273822);\">:</span> <span style=\"background-color:rgba(135,206,250,0.51833475);\">germany</span> <span style=\"background-color:rgba(135,206,250,0.19224802);\">:</span> <span style=\"background-color:rgba(135,206,250,0.23454271);\">mosel</span> <span style=\"background-color:rgba(135,206,250,0.20582667);\">:</span> <span style=\"background-color:rgba(135,206,250,0.5257956);\">riesling</span> <span style=\"background-color:rgba(135,206,250,0.19217466);\">:</span> <span style=\"background-color:rgba(135,206,250,0.15859838);\">a</span> <span style=\"background-color:rgba(135,206,250,0.29274577);\">whiff</span> <span style=\"background-color:rgba(135,206,250,0.17163455);\">of</span> <span style=\"background-color:rgba(135,206,250,0.26223418);\">petrol</span> <span style=\"background-color:rgba(135,206,250,0.40637183);\">leads</span> <span style=\"background-color:rgba(135,206,250,0.21493128);\">to</span> <span style=\"background-color:rgba(135,206,250,0.37038425);\">a</span> <span style=\"background-color:rgba(135,206,250,0.2506102);\">slightly</span> <span style=\"background-color:rgba(135,206,250,0.24840274);\">sweet</span> <span style=\"background-color:rgba(135,206,250,0.47548848);\">,</span> <span style=\"background-color:rgba(135,206,250,0.58962834);\">slightly</span> <span style=\"background-color:rgba(135,206,250,1.0);\">bitter</span>"
      ],
      "text/plain": [
       "<IPython.core.display.HTML object>"
      ]
     },
     "metadata": {},
     "output_type": "display_data"
    },
    {
     "name": "stdout",
     "output_type": "stream",
     "text": [
      "edge:   \t28.15%\n",
      "almond:   \t18.06%\n",
      "lemon:   \t14.6%\n",
      "tone:   \t6.56%\n",
      "note:   \t6.29%\n",
      "--------\n",
      "\n"
     ]
    },
    {
     "data": {
      "text/html": [
       "<span style=\"background-color:rgba(135,206,250,0.35434532);\">wine</span> <span style=\"background-color:rgba(135,206,250,0.3249271);\">review</span> <span style=\"background-color:rgba(135,206,250,0.33298865);\">:</span> <span style=\"background-color:rgba(135,206,250,0.49973494);\">germany</span> <span style=\"background-color:rgba(135,206,250,0.33827603);\">:</span> <span style=\"background-color:rgba(135,206,250,0.20655163);\">mosel</span> <span style=\"background-color:rgba(135,206,250,0.32351318);\">:</span> <span style=\"background-color:rgba(135,206,250,0.2222552);\">riesling</span> <span style=\"background-color:rgba(135,206,250,0.22697155);\">:</span> <span style=\"background-color:rgba(135,206,250,0.24932757);\">a</span> <span style=\"background-color:rgba(135,206,250,0.37680382);\">whiff</span> <span style=\"background-color:rgba(135,206,250,0.2867788);\">of</span> <span style=\"background-color:rgba(135,206,250,0.21915498);\">petrol</span> <span style=\"background-color:rgba(135,206,250,0.64647555);\">leads</span> <span style=\"background-color:rgba(135,206,250,0.35409862);\">to</span> <span style=\"background-color:rgba(135,206,250,0.54222393);\">a</span> <span style=\"background-color:rgba(135,206,250,0.3573002);\">slightly</span> <span style=\"background-color:rgba(135,206,250,0.2966671);\">sweet</span> <span style=\"background-color:rgba(135,206,250,0.51049465);\">,</span> <span style=\"background-color:rgba(135,206,250,0.69458264);\">slightly</span> <span style=\"background-color:rgba(135,206,250,1.0);\">bitter</span> <span style=\"background-color:rgba(135,206,250,0.8200049);\">almond</span>"
      ],
      "text/plain": [
       "<IPython.core.display.HTML object>"
      ]
     },
     "metadata": {},
     "output_type": "display_data"
    },
    {
     "name": "stdout",
     "output_type": "stream",
     "text": [
      "note:   \t26.93%\n",
      "and:   \t19.17%\n",
      "finish:   \t17.23%\n",
      "tone:   \t14.85%\n",
      "flavors:   \t4.88%\n",
      "--------\n",
      "\n"
     ]
    },
    {
     "data": {
      "text/html": [
       "<span style=\"background-color:rgba(135,206,250,0.16708538);\">wine</span> <span style=\"background-color:rgba(135,206,250,0.19421378);\">review</span> <span style=\"background-color:rgba(135,206,250,0.11756503);\">:</span> <span style=\"background-color:rgba(135,206,250,0.4042036);\">germany</span> <span style=\"background-color:rgba(135,206,250,0.13012464);\">:</span> <span style=\"background-color:rgba(135,206,250,0.1548603);\">mosel</span> <span style=\"background-color:rgba(135,206,250,0.14495464);\">:</span> <span style=\"background-color:rgba(135,206,250,0.15925658);\">riesling</span> <span style=\"background-color:rgba(135,206,250,0.13464285);\">:</span> <span style=\"background-color:rgba(135,206,250,0.0895899);\">a</span> <span style=\"background-color:rgba(135,206,250,0.15857959);\">whiff</span> <span style=\"background-color:rgba(135,206,250,0.15107809);\">of</span> <span style=\"background-color:rgba(135,206,250,0.17878886);\">petrol</span> <span style=\"background-color:rgba(135,206,250,0.44382578);\">leads</span> <span style=\"background-color:rgba(135,206,250,0.20590426);\">to</span> <span style=\"background-color:rgba(135,206,250,0.16099952);\">a</span> <span style=\"background-color:rgba(135,206,250,0.11432765);\">slightly</span> <span style=\"background-color:rgba(135,206,250,0.1851529);\">sweet</span> <span style=\"background-color:rgba(135,206,250,0.24467205);\">,</span> <span style=\"background-color:rgba(135,206,250,0.19621825);\">slightly</span> <span style=\"background-color:rgba(135,206,250,0.71862125);\">bitter</span> <span style=\"background-color:rgba(135,206,250,1.0);\">almond</span> <span style=\"background-color:rgba(135,206,250,0.43126687);\">flavors</span>"
      ],
      "text/plain": [
       "<IPython.core.display.HTML object>"
      ]
     },
     "metadata": {},
     "output_type": "display_data"
    },
    {
     "name": "stdout",
     "output_type": "stream",
     "text": [
      "in:   \t44.32%\n",
      "and:   \t34.5%\n",
      "on:   \t10.31%\n",
      "that:   \t5.25%\n",
      ",:   \t2.88%\n",
      "--------\n",
      "\n"
     ]
    },
    {
     "data": {
      "text/html": [
       "<span style=\"background-color:rgba(135,206,250,0.1541681);\">wine</span> <span style=\"background-color:rgba(135,206,250,0.14499578);\">review</span> <span style=\"background-color:rgba(135,206,250,0.14655106);\">:</span> <span style=\"background-color:rgba(135,206,250,0.38181892);\">germany</span> <span style=\"background-color:rgba(135,206,250,0.10906102);\">:</span> <span style=\"background-color:rgba(135,206,250,0.14893828);\">mosel</span> <span style=\"background-color:rgba(135,206,250,0.13207108);\">:</span> <span style=\"background-color:rgba(135,206,250,0.24877015);\">riesling</span> <span style=\"background-color:rgba(135,206,250,0.12322615);\">:</span> <span style=\"background-color:rgba(135,206,250,0.097922);\">a</span> <span style=\"background-color:rgba(135,206,250,0.17093457);\">whiff</span> <span style=\"background-color:rgba(135,206,250,0.08665346);\">of</span> <span style=\"background-color:rgba(135,206,250,0.15299906);\">petrol</span> <span style=\"background-color:rgba(135,206,250,0.33379477);\">leads</span> <span style=\"background-color:rgba(135,206,250,0.0947436);\">to</span> <span style=\"background-color:rgba(135,206,250,0.14406724);\">a</span> <span style=\"background-color:rgba(135,206,250,0.14368169);\">slightly</span> <span style=\"background-color:rgba(135,206,250,0.18127698);\">sweet</span> <span style=\"background-color:rgba(135,206,250,0.22202067);\">,</span> <span style=\"background-color:rgba(135,206,250,0.25833258);\">slightly</span> <span style=\"background-color:rgba(135,206,250,0.5975771);\">bitter</span> <span style=\"background-color:rgba(135,206,250,0.4966392);\">almond</span> <span style=\"background-color:rgba(135,206,250,1.0);\">flavors</span> <span style=\"background-color:rgba(135,206,250,0.38397032);\">on</span>"
      ],
      "text/plain": [
       "<IPython.core.display.HTML object>"
      ]
     },
     "metadata": {},
     "output_type": "display_data"
    },
    {
     "name": "stdout",
     "output_type": "stream",
     "text": [
      "the:   \t87.38%\n",
      "this:   \t12.6%\n",
      "a:   \t0.02%\n",
      "its:   \t0.0%\n",
      "an:   \t0.0%\n",
      "--------\n",
      "\n"
     ]
    },
    {
     "data": {
      "text/html": [
       "<span style=\"background-color:rgba(135,206,250,0.1287842);\">wine</span> <span style=\"background-color:rgba(135,206,250,0.10109479);\">review</span> <span style=\"background-color:rgba(135,206,250,0.13986549);\">:</span> <span style=\"background-color:rgba(135,206,250,0.39208508);\">germany</span> <span style=\"background-color:rgba(135,206,250,0.09258855);\">:</span> <span style=\"background-color:rgba(135,206,250,0.1765872);\">mosel</span> <span style=\"background-color:rgba(135,206,250,0.09343908);\">:</span> <span style=\"background-color:rgba(135,206,250,0.31378677);\">riesling</span> <span style=\"background-color:rgba(135,206,250,0.09420743);\">:</span> <span style=\"background-color:rgba(135,206,250,0.05317557);\">a</span> <span style=\"background-color:rgba(135,206,250,0.19802828);\">whiff</span> <span style=\"background-color:rgba(135,206,250,0.061617725);\">of</span> <span style=\"background-color:rgba(135,206,250,0.162723);\">petrol</span> <span style=\"background-color:rgba(135,206,250,0.20722778);\">leads</span> <span style=\"background-color:rgba(135,206,250,0.07823154);\">to</span> <span style=\"background-color:rgba(135,206,250,0.05881574);\">a</span> <span style=\"background-color:rgba(135,206,250,0.10924723);\">slightly</span> <span style=\"background-color:rgba(135,206,250,0.22369619);\">sweet</span> <span style=\"background-color:rgba(135,206,250,0.19939253);\">,</span> <span style=\"background-color:rgba(135,206,250,0.17457452);\">slightly</span> <span style=\"background-color:rgba(135,206,250,0.59864455);\">bitter</span> <span style=\"background-color:rgba(135,206,250,0.5170776);\">almond</span> <span style=\"background-color:rgba(135,206,250,0.77007866);\">flavors</span> <span style=\"background-color:rgba(135,206,250,1.0);\">on</span> <span style=\"background-color:rgba(135,206,250,0.35879233);\">the</span>"
      ],
      "text/plain": [
       "<IPython.core.display.HTML object>"
      ]
     },
     "metadata": {},
     "output_type": "display_data"
    },
    {
     "name": "stdout",
     "output_type": "stream",
     "text": [
      "palate:   \t49.43%\n",
      "nose:   \t30.13%\n",
      "finish:   \t20.03%\n",
      "midpalate:   \t0.37%\n",
      "long:   \t0.01%\n",
      "--------\n",
      "\n"
     ]
    },
    {
     "data": {
      "text/html": [
       "<span style=\"background-color:rgba(135,206,250,0.090935946);\">wine</span> <span style=\"background-color:rgba(135,206,250,0.13092728);\">review</span> <span style=\"background-color:rgba(135,206,250,0.09269793);\">:</span> <span style=\"background-color:rgba(135,206,250,0.36724404);\">germany</span> <span style=\"background-color:rgba(135,206,250,0.098684356);\">:</span> <span style=\"background-color:rgba(135,206,250,0.13455553);\">mosel</span> <span style=\"background-color:rgba(135,206,250,0.10521158);\">:</span> <span style=\"background-color:rgba(135,206,250,0.146205);\">riesling</span> <span style=\"background-color:rgba(135,206,250,0.101541266);\">:</span> <span style=\"background-color:rgba(135,206,250,0.05806219);\">a</span> <span style=\"background-color:rgba(135,206,250,0.10428459);\">whiff</span> <span style=\"background-color:rgba(135,206,250,0.06420419);\">of</span> <span style=\"background-color:rgba(135,206,250,0.08496651);\">petrol</span> <span style=\"background-color:rgba(135,206,250,0.210061);\">leads</span> <span style=\"background-color:rgba(135,206,250,0.0743324);\">to</span> <span style=\"background-color:rgba(135,206,250,0.074832976);\">a</span> <span style=\"background-color:rgba(135,206,250,0.062479354);\">slightly</span> <span style=\"background-color:rgba(135,206,250,0.08598268);\">sweet</span> <span style=\"background-color:rgba(135,206,250,0.10662521);\">,</span> <span style=\"background-color:rgba(135,206,250,0.1003441);\">slightly</span> <span style=\"background-color:rgba(135,206,250,0.26092094);\">bitter</span> <span style=\"background-color:rgba(135,206,250,0.21432565);\">almond</span> <span style=\"background-color:rgba(135,206,250,0.28744867);\">flavors</span> <span style=\"background-color:rgba(135,206,250,1.0);\">on</span> <span style=\"background-color:rgba(135,206,250,0.53051025);\">the</span> <span style=\"background-color:rgba(135,206,250,0.3881601);\">palate</span>"
      ],
      "text/plain": [
       "<IPython.core.display.HTML object>"
      ]
     },
     "metadata": {},
     "output_type": "display_data"
    },
    {
     "name": "stdout",
     "output_type": "stream",
     "text": [
      ".:   \t41.05%\n",
      "of:   \t34.55%\n",
      ",:   \t17.15%\n",
      "in:   \t3.0%\n",
      "and:   \t1.77%\n",
      "--------\n",
      "\n"
     ]
    },
    {
     "data": {
      "text/html": [
       "<span style=\"background-color:rgba(135,206,250,0.09036636);\">wine</span> <span style=\"background-color:rgba(135,206,250,0.10651072);\">review</span> <span style=\"background-color:rgba(135,206,250,0.11695755);\">:</span> <span style=\"background-color:rgba(135,206,250,0.45454198);\">germany</span> <span style=\"background-color:rgba(135,206,250,0.070627935);\">:</span> <span style=\"background-color:rgba(135,206,250,0.2002422);\">mosel</span> <span style=\"background-color:rgba(135,206,250,0.08990337);\">:</span> <span style=\"background-color:rgba(135,206,250,0.5095526);\">riesling</span> <span style=\"background-color:rgba(135,206,250,0.10988805);\">:</span> <span style=\"background-color:rgba(135,206,250,0.061046533);\">a</span> <span style=\"background-color:rgba(135,206,250,0.14165542);\">whiff</span> <span style=\"background-color:rgba(135,206,250,0.043987572);\">of</span> <span style=\"background-color:rgba(135,206,250,0.14713816);\">petrol</span> <span style=\"background-color:rgba(135,206,250,0.12596823);\">leads</span> <span style=\"background-color:rgba(135,206,250,0.04194061);\">to</span> <span style=\"background-color:rgba(135,206,250,0.052227166);\">a</span> <span style=\"background-color:rgba(135,206,250,0.07034611);\">slightly</span> <span style=\"background-color:rgba(135,206,250,0.13033776);\">sweet</span> <span style=\"background-color:rgba(135,206,250,0.08152574);\">,</span> <span style=\"background-color:rgba(135,206,250,0.107011706);\">slightly</span> <span style=\"background-color:rgba(135,206,250,0.3156395);\">bitter</span> <span style=\"background-color:rgba(135,206,250,0.26507378);\">almond</span> <span style=\"background-color:rgba(135,206,250,0.59972954);\">flavors</span> <span style=\"background-color:rgba(135,206,250,0.19654554);\">on</span> <span style=\"background-color:rgba(135,206,250,0.59675217);\">the</span> <span style=\"background-color:rgba(135,206,250,1.0);\">palate</span> <span style=\"background-color:rgba(135,206,250,0.48806682);\">of</span>"
      ],
      "text/plain": [
       "<IPython.core.display.HTML object>"
      ]
     },
     "metadata": {},
     "output_type": "display_data"
    },
    {
     "name": "stdout",
     "output_type": "stream",
     "text": [
      "this:   \t99.92%\n",
      "the:   \t0.05%\n",
      "a:   \t0.01%\n",
      "lemon:   \t0.0%\n",
      "pineapple:   \t0.0%\n",
      "--------\n",
      "\n"
     ]
    },
    {
     "data": {
      "text/html": [
       "<span style=\"background-color:rgba(135,206,250,0.12412301);\">wine</span> <span style=\"background-color:rgba(135,206,250,0.13589208);\">review</span> <span style=\"background-color:rgba(135,206,250,0.30567932);\">:</span> <span style=\"background-color:rgba(135,206,250,0.8159078);\">germany</span> <span style=\"background-color:rgba(135,206,250,0.124509625);\">:</span> <span style=\"background-color:rgba(135,206,250,0.30721042);\">mosel</span> <span style=\"background-color:rgba(135,206,250,0.17721449);\">:</span> <span style=\"background-color:rgba(135,206,250,0.6717761);\">riesling</span> <span style=\"background-color:rgba(135,206,250,0.15060374);\">:</span> <span style=\"background-color:rgba(135,206,250,0.069231026);\">a</span> <span style=\"background-color:rgba(135,206,250,0.17965803);\">whiff</span> <span style=\"background-color:rgba(135,206,250,0.06686704);\">of</span> <span style=\"background-color:rgba(135,206,250,0.16713804);\">petrol</span> <span style=\"background-color:rgba(135,206,250,0.15587848);\">leads</span> <span style=\"background-color:rgba(135,206,250,0.06614312);\">to</span> <span style=\"background-color:rgba(135,206,250,0.047542952);\">a</span> <span style=\"background-color:rgba(135,206,250,0.08407303);\">slightly</span> <span style=\"background-color:rgba(135,206,250,0.1631687);\">sweet</span> <span style=\"background-color:rgba(135,206,250,0.13254225);\">,</span> <span style=\"background-color:rgba(135,206,250,0.10028495);\">slightly</span> <span style=\"background-color:rgba(135,206,250,0.29626355);\">bitter</span> <span style=\"background-color:rgba(135,206,250,0.23137169);\">almond</span> <span style=\"background-color:rgba(135,206,250,0.29307327);\">flavors</span> <span style=\"background-color:rgba(135,206,250,0.41078678);\">on</span> <span style=\"background-color:rgba(135,206,250,0.30388764);\">the</span> <span style=\"background-color:rgba(135,206,250,0.65620846);\">palate</span> <span style=\"background-color:rgba(135,206,250,1.0);\">of</span> <span style=\"background-color:rgba(135,206,250,0.8325984);\">this</span>"
      ],
      "text/plain": [
       "<IPython.core.display.HTML object>"
      ]
     },
     "metadata": {},
     "output_type": "display_data"
    },
    {
     "name": "stdout",
     "output_type": "stream",
     "text": [
      "off:   \t69.24%\n",
      "dry:   \t16.72%\n",
      "wine:   \t2.42%\n",
      "semi:   \t1.88%\n",
      "exceptionally:   \t0.95%\n",
      "--------\n",
      "\n"
     ]
    },
    {
     "data": {
      "text/html": [
       "<span style=\"background-color:rgba(135,206,250,0.09457122);\">wine</span> <span style=\"background-color:rgba(135,206,250,0.10812597);\">review</span> <span style=\"background-color:rgba(135,206,250,0.09586231);\">:</span> <span style=\"background-color:rgba(135,206,250,0.16323753);\">germany</span> <span style=\"background-color:rgba(135,206,250,0.08897314);\">:</span> <span style=\"background-color:rgba(135,206,250,0.09454743);\">mosel</span> <span style=\"background-color:rgba(135,206,250,0.09442727);\">:</span> <span style=\"background-color:rgba(135,206,250,0.12992364);\">riesling</span> <span style=\"background-color:rgba(135,206,250,0.086617924);\">:</span> <span style=\"background-color:rgba(135,206,250,0.058746997);\">a</span> <span style=\"background-color:rgba(135,206,250,0.08959883);\">whiff</span> <span style=\"background-color:rgba(135,206,250,0.05331079);\">of</span> <span style=\"background-color:rgba(135,206,250,0.067782186);\">petrol</span> <span style=\"background-color:rgba(135,206,250,0.117611535);\">leads</span> <span style=\"background-color:rgba(135,206,250,0.055719014);\">to</span> <span style=\"background-color:rgba(135,206,250,0.05495821);\">a</span> <span style=\"background-color:rgba(135,206,250,0.049562845);\">slightly</span> <span style=\"background-color:rgba(135,206,250,0.05588405);\">sweet</span> <span style=\"background-color:rgba(135,206,250,0.07040892);\">,</span> <span style=\"background-color:rgba(135,206,250,0.06182286);\">slightly</span> <span style=\"background-color:rgba(135,206,250,0.10693322);\">bitter</span> <span style=\"background-color:rgba(135,206,250,0.10063536);\">almond</span> <span style=\"background-color:rgba(135,206,250,0.20060992);\">flavors</span> <span style=\"background-color:rgba(135,206,250,0.16736923);\">on</span> <span style=\"background-color:rgba(135,206,250,0.3158489);\">the</span> <span style=\"background-color:rgba(135,206,250,0.33891615);\">palate</span> <span style=\"background-color:rgba(135,206,250,0.36973903);\">of</span> <span style=\"background-color:rgba(135,206,250,1.0);\">this</span> <span style=\"background-color:rgba(135,206,250,0.25439033);\">off</span>"
      ],
      "text/plain": [
       "<IPython.core.display.HTML object>"
      ]
     },
     "metadata": {},
     "output_type": "display_data"
    },
    {
     "name": "stdout",
     "output_type": "stream",
     "text": [
      "-:   \t100.0%\n",
      "dry:   \t0.0%\n",
      "by:   \t0.0%\n",
      ",:   \t0.0%\n",
      "a:   \t0.0%\n",
      "--------\n",
      "\n"
     ]
    },
    {
     "data": {
      "text/html": [
       "<span style=\"background-color:rgba(135,206,250,0.035187498);\">wine</span> <span style=\"background-color:rgba(135,206,250,0.04029007);\">review</span> <span style=\"background-color:rgba(135,206,250,0.046022654);\">:</span> <span style=\"background-color:rgba(135,206,250,0.08909655);\">germany</span> <span style=\"background-color:rgba(135,206,250,0.042379618);\">:</span> <span style=\"background-color:rgba(135,206,250,0.059033897);\">mosel</span> <span style=\"background-color:rgba(135,206,250,0.04245979);\">:</span> <span style=\"background-color:rgba(135,206,250,0.103495985);\">riesling</span> <span style=\"background-color:rgba(135,206,250,0.048437316);\">:</span> <span style=\"background-color:rgba(135,206,250,0.024064627);\">a</span> <span style=\"background-color:rgba(135,206,250,0.038807828);\">whiff</span> <span style=\"background-color:rgba(135,206,250,0.019576494);\">of</span> <span style=\"background-color:rgba(135,206,250,0.032625355);\">petrol</span> <span style=\"background-color:rgba(135,206,250,0.034765873);\">leads</span> <span style=\"background-color:rgba(135,206,250,0.018949667);\">to</span> <span style=\"background-color:rgba(135,206,250,0.016883966);\">a</span> <span style=\"background-color:rgba(135,206,250,0.020063965);\">slightly</span> <span style=\"background-color:rgba(135,206,250,0.025759831);\">sweet</span> <span style=\"background-color:rgba(135,206,250,0.020782689);\">,</span> <span style=\"background-color:rgba(135,206,250,0.021379389);\">slightly</span> <span style=\"background-color:rgba(135,206,250,0.038470812);\">bitter</span> <span style=\"background-color:rgba(135,206,250,0.041400272);\">almond</span> <span style=\"background-color:rgba(135,206,250,0.043967504);\">flavors</span> <span style=\"background-color:rgba(135,206,250,0.033874888);\">on</span> <span style=\"background-color:rgba(135,206,250,0.027718846);\">the</span> <span style=\"background-color:rgba(135,206,250,0.08266392);\">palate</span> <span style=\"background-color:rgba(135,206,250,0.06295562);\">of</span> <span style=\"background-color:rgba(135,206,250,0.106112204);\">this</span> <span style=\"background-color:rgba(135,206,250,1.0);\">off</span> <span style=\"background-color:rgba(135,206,250,0.033069424);\">-</span>"
      ],
      "text/plain": [
       "<IPython.core.display.HTML object>"
      ]
     },
     "metadata": {},
     "output_type": "display_data"
    },
    {
     "name": "stdout",
     "output_type": "stream",
     "text": [
      "dry:   \t100.0%\n",
      "sweet:   \t0.0%\n",
      "putting:   \t0.0%\n",
      "like:   \t0.0%\n",
      "with:   \t0.0%\n",
      "--------\n",
      "\n"
     ]
    },
    {
     "data": {
      "text/html": [
       "<span style=\"background-color:rgba(135,206,250,0.05730454);\">wine</span> <span style=\"background-color:rgba(135,206,250,0.063977465);\">review</span> <span style=\"background-color:rgba(135,206,250,0.06919474);\">:</span> <span style=\"background-color:rgba(135,206,250,0.35426515);\">germany</span> <span style=\"background-color:rgba(135,206,250,0.04528917);\">:</span> <span style=\"background-color:rgba(135,206,250,0.1445867);\">mosel</span> <span style=\"background-color:rgba(135,206,250,0.067103155);\">:</span> <span style=\"background-color:rgba(135,206,250,0.4519356);\">riesling</span> <span style=\"background-color:rgba(135,206,250,0.08911968);\">:</span> <span style=\"background-color:rgba(135,206,250,0.041838337);\">a</span> <span style=\"background-color:rgba(135,206,250,0.101102546);\">whiff</span> <span style=\"background-color:rgba(135,206,250,0.029493483);\">of</span> <span style=\"background-color:rgba(135,206,250,0.09008049);\">petrol</span> <span style=\"background-color:rgba(135,206,250,0.06688468);\">leads</span> <span style=\"background-color:rgba(135,206,250,0.031512145);\">to</span> <span style=\"background-color:rgba(135,206,250,0.027912058);\">a</span> <span style=\"background-color:rgba(135,206,250,0.04214836);\">slightly</span> <span style=\"background-color:rgba(135,206,250,0.061163742);\">sweet</span> <span style=\"background-color:rgba(135,206,250,0.038820095);\">,</span> <span style=\"background-color:rgba(135,206,250,0.04998066);\">slightly</span> <span style=\"background-color:rgba(135,206,250,0.11687413);\">bitter</span> <span style=\"background-color:rgba(135,206,250,0.13026878);\">almond</span> <span style=\"background-color:rgba(135,206,250,0.2294252);\">flavors</span> <span style=\"background-color:rgba(135,206,250,0.12646182);\">on</span> <span style=\"background-color:rgba(135,206,250,0.25115582);\">the</span> <span style=\"background-color:rgba(135,206,250,0.45378283);\">palate</span> <span style=\"background-color:rgba(135,206,250,0.4191092);\">of</span> <span style=\"background-color:rgba(135,206,250,1.0);\">this</span> <span style=\"background-color:rgba(135,206,250,0.33793437);\">off</span> <span style=\"background-color:rgba(135,206,250,0.19762474);\">-</span> <span style=\"background-color:rgba(135,206,250,0.44697878);\">dry</span>"
      ],
      "text/plain": [
       "<IPython.core.display.HTML object>"
      ]
     },
     "metadata": {},
     "output_type": "display_data"
    },
    {
     "name": "stdout",
     "output_type": "stream",
     "text": [
      "riesling:   \t68.43%\n",
      ",:   \t30.6%\n",
      "wine:   \t0.62%\n",
      "auslese:   \t0.12%\n",
      "and:   \t0.05%\n",
      "--------\n",
      "\n"
     ]
    },
    {
     "data": {
      "text/html": [
       "<span style=\"background-color:rgba(135,206,250,0.114537716);\">wine</span> <span style=\"background-color:rgba(135,206,250,0.15173072);\">review</span> <span style=\"background-color:rgba(135,206,250,0.19847697);\">:</span> <span style=\"background-color:rgba(135,206,250,0.4310351);\">germany</span> <span style=\"background-color:rgba(135,206,250,0.14723353);\">:</span> <span style=\"background-color:rgba(135,206,250,0.17812967);\">mosel</span> <span style=\"background-color:rgba(135,206,250,0.16184288);\">:</span> <span style=\"background-color:rgba(135,206,250,0.18690598);\">riesling</span> <span style=\"background-color:rgba(135,206,250,0.12652525);\">:</span> <span style=\"background-color:rgba(135,206,250,0.093249716);\">a</span> <span style=\"background-color:rgba(135,206,250,0.13685302);\">whiff</span> <span style=\"background-color:rgba(135,206,250,0.09062876);\">of</span> <span style=\"background-color:rgba(135,206,250,0.11053059);\">petrol</span> <span style=\"background-color:rgba(135,206,250,0.19049211);\">leads</span> <span style=\"background-color:rgba(135,206,250,0.08780662);\">to</span> <span style=\"background-color:rgba(135,206,250,0.09783847);\">a</span> <span style=\"background-color:rgba(135,206,250,0.09404985);\">slightly</span> <span style=\"background-color:rgba(135,206,250,0.10942734);\">sweet</span> <span style=\"background-color:rgba(135,206,250,0.095979095);\">,</span> <span style=\"background-color:rgba(135,206,250,0.11447268);\">slightly</span> <span style=\"background-color:rgba(135,206,250,0.19080883);\">bitter</span> <span style=\"background-color:rgba(135,206,250,0.14680704);\">almond</span> <span style=\"background-color:rgba(135,206,250,0.2977811);\">flavors</span> <span style=\"background-color:rgba(135,206,250,0.33852032);\">on</span> <span style=\"background-color:rgba(135,206,250,0.3336178);\">the</span> <span style=\"background-color:rgba(135,206,250,0.3146005);\">palate</span> <span style=\"background-color:rgba(135,206,250,0.56968975);\">of</span> <span style=\"background-color:rgba(135,206,250,0.84029883);\">this</span> <span style=\"background-color:rgba(135,206,250,0.39029893);\">off</span> <span style=\"background-color:rgba(135,206,250,0.33111405);\">-</span> <span style=\"background-color:rgba(135,206,250,1.0);\">dry</span> <span style=\"background-color:rgba(135,206,250,0.82495946);\">wine</span>"
      ],
      "text/plain": [
       "<IPython.core.display.HTML object>"
      ]
     },
     "metadata": {},
     "output_type": "display_data"
    },
    {
     "name": "stdout",
     "output_type": "stream",
     "text": [
      ".:   \t98.19%\n",
      ",:   \t1.34%\n",
      "':   \t0.29%\n",
      "that:   \t0.07%\n",
      "by:   \t0.03%\n",
      "--------\n",
      "\n"
     ]
    },
    {
     "data": {
      "text/html": [
       "<span style=\"background-color:rgba(135,206,250,0.25445825);\">wine</span> <span style=\"background-color:rgba(135,206,250,0.20960933);\">review</span> <span style=\"background-color:rgba(135,206,250,0.7068319);\">:</span> <span style=\"background-color:rgba(135,206,250,1.0);\">germany</span> <span style=\"background-color:rgba(135,206,250,0.33546546);\">:</span> <span style=\"background-color:rgba(135,206,250,0.41799632);\">mosel</span> <span style=\"background-color:rgba(135,206,250,0.42821166);\">:</span> <span style=\"background-color:rgba(135,206,250,0.69049853);\">riesling</span> <span style=\"background-color:rgba(135,206,250,0.27700138);\">:</span> <span style=\"background-color:rgba(135,206,250,0.16713926);\">a</span> <span style=\"background-color:rgba(135,206,250,0.23752898);\">whiff</span> <span style=\"background-color:rgba(135,206,250,0.13669707);\">of</span> <span style=\"background-color:rgba(135,206,250,0.2567432);\">petrol</span> <span style=\"background-color:rgba(135,206,250,0.2651649);\">leads</span> <span style=\"background-color:rgba(135,206,250,0.11416241);\">to</span> <span style=\"background-color:rgba(135,206,250,0.13030887);\">a</span> <span style=\"background-color:rgba(135,206,250,0.17337433);\">slightly</span> <span style=\"background-color:rgba(135,206,250,0.24371721);\">sweet</span> <span style=\"background-color:rgba(135,206,250,0.1280989);\">,</span> <span style=\"background-color:rgba(135,206,250,0.19060549);\">slightly</span> <span style=\"background-color:rgba(135,206,250,0.37202728);\">bitter</span> <span style=\"background-color:rgba(135,206,250,0.2846189);\">almond</span> <span style=\"background-color:rgba(135,206,250,0.49451053);\">flavors</span> <span style=\"background-color:rgba(135,206,250,0.18973653);\">on</span> <span style=\"background-color:rgba(135,206,250,0.15015331);\">the</span> <span style=\"background-color:rgba(135,206,250,0.7416915);\">palate</span> <span style=\"background-color:rgba(135,206,250,0.22198994);\">of</span> <span style=\"background-color:rgba(135,206,250,0.6106814);\">this</span> <span style=\"background-color:rgba(135,206,250,0.43823114);\">off</span> <span style=\"background-color:rgba(135,206,250,0.29007906);\">-</span> <span style=\"background-color:rgba(135,206,250,0.5505818);\">dry</span> <span style=\"background-color:rgba(135,206,250,0.669684);\">wine</span> <span style=\"background-color:rgba(135,206,250,0.84122956);\">.</span>"
      ],
      "text/plain": [
       "<IPython.core.display.HTML object>"
      ]
     },
     "metadata": {},
     "output_type": "display_data"
    },
    {
     "name": "stdout",
     "output_type": "stream",
     "text": [
      "it:   \t87.08%\n",
      "the:   \t7.56%\n",
      "a:   \t2.19%\n",
      ":   \t1.72%\n",
      "there:   \t0.15%\n",
      "--------\n",
      "\n"
     ]
    },
    {
     "data": {
      "text/html": [
       "<span style=\"background-color:rgba(135,206,250,0.0326347);\">wine</span> <span style=\"background-color:rgba(135,206,250,0.03134637);\">review</span> <span style=\"background-color:rgba(135,206,250,0.03812739);\">:</span> <span style=\"background-color:rgba(135,206,250,0.20868476);\">germany</span> <span style=\"background-color:rgba(135,206,250,0.026858872);\">:</span> <span style=\"background-color:rgba(135,206,250,0.091083735);\">mosel</span> <span style=\"background-color:rgba(135,206,250,0.031626787);\">:</span> <span style=\"background-color:rgba(135,206,250,0.1507795);\">riesling</span> <span style=\"background-color:rgba(135,206,250,0.041385576);\">:</span> <span style=\"background-color:rgba(135,206,250,0.021594968);\">a</span> <span style=\"background-color:rgba(135,206,250,0.06079983);\">whiff</span> <span style=\"background-color:rgba(135,206,250,0.02028662);\">of</span> <span style=\"background-color:rgba(135,206,250,0.05881218);\">petrol</span> <span style=\"background-color:rgba(135,206,250,0.041037194);\">leads</span> <span style=\"background-color:rgba(135,206,250,0.017982014);\">to</span> <span style=\"background-color:rgba(135,206,250,0.016412117);\">a</span> <span style=\"background-color:rgba(135,206,250,0.035801083);\">slightly</span> <span style=\"background-color:rgba(135,206,250,0.071167044);\">sweet</span> <span style=\"background-color:rgba(135,206,250,0.020908454);\">,</span> <span style=\"background-color:rgba(135,206,250,0.036640856);\">slightly</span> <span style=\"background-color:rgba(135,206,250,0.0993836);\">bitter</span> <span style=\"background-color:rgba(135,206,250,0.06383165);\">almond</span> <span style=\"background-color:rgba(135,206,250,0.08222437);\">flavors</span> <span style=\"background-color:rgba(135,206,250,0.04337322);\">on</span> <span style=\"background-color:rgba(135,206,250,0.03047567);\">the</span> <span style=\"background-color:rgba(135,206,250,0.1500652);\">palate</span> <span style=\"background-color:rgba(135,206,250,0.0643498);\">of</span> <span style=\"background-color:rgba(135,206,250,0.10157799);\">this</span> <span style=\"background-color:rgba(135,206,250,0.16026276);\">off</span> <span style=\"background-color:rgba(135,206,250,0.057849303);\">-</span> <span style=\"background-color:rgba(135,206,250,0.24863665);\">dry</span> <span style=\"background-color:rgba(135,206,250,0.38870546);\">wine</span> <span style=\"background-color:rgba(135,206,250,1.0);\">.</span> <span style=\"background-color:rgba(135,206,250,0.16923799);\">a</span>"
      ],
      "text/plain": [
       "<IPython.core.display.HTML object>"
      ]
     },
     "metadata": {},
     "output_type": "display_data"
    },
    {
     "name": "stdout",
     "output_type": "stream",
     "text": [
      "bit:   \t66.08%\n",
      "slightly:   \t11.6%\n",
      "dry:   \t1.94%\n",
      "bitter:   \t1.88%\n",
      "delicate:   \t1.39%\n",
      "--------\n",
      "\n"
     ]
    },
    {
     "data": {
      "text/html": [
       "<span style=\"background-color:rgba(135,206,250,0.038141713);\">wine</span> <span style=\"background-color:rgba(135,206,250,0.052570187);\">review</span> <span style=\"background-color:rgba(135,206,250,0.04963285);\">:</span> <span style=\"background-color:rgba(135,206,250,0.20941775);\">germany</span> <span style=\"background-color:rgba(135,206,250,0.045952104);\">:</span> <span style=\"background-color:rgba(135,206,250,0.10269986);\">mosel</span> <span style=\"background-color:rgba(135,206,250,0.04966304);\">:</span> <span style=\"background-color:rgba(135,206,250,0.10978386);\">riesling</span> <span style=\"background-color:rgba(135,206,250,0.051398966);\">:</span> <span style=\"background-color:rgba(135,206,250,0.025096027);\">a</span> <span style=\"background-color:rgba(135,206,250,0.052538853);\">whiff</span> <span style=\"background-color:rgba(135,206,250,0.026248623);\">of</span> <span style=\"background-color:rgba(135,206,250,0.047623582);\">petrol</span> <span style=\"background-color:rgba(135,206,250,0.054070223);\">leads</span> <span style=\"background-color:rgba(135,206,250,0.020703025);\">to</span> <span style=\"background-color:rgba(135,206,250,0.01877214);\">a</span> <span style=\"background-color:rgba(135,206,250,0.028952582);\">slightly</span> <span style=\"background-color:rgba(135,206,250,0.048665907);\">sweet</span> <span style=\"background-color:rgba(135,206,250,0.025439814);\">,</span> <span style=\"background-color:rgba(135,206,250,0.03138262);\">slightly</span> <span style=\"background-color:rgba(135,206,250,0.07543565);\">bitter</span> <span style=\"background-color:rgba(135,206,250,0.053109933);\">almond</span> <span style=\"background-color:rgba(135,206,250,0.05084501);\">flavors</span> <span style=\"background-color:rgba(135,206,250,0.06175025);\">on</span> <span style=\"background-color:rgba(135,206,250,0.044118416);\">the</span> <span style=\"background-color:rgba(135,206,250,0.077395685);\">palate</span> <span style=\"background-color:rgba(135,206,250,0.07914826);\">of</span> <span style=\"background-color:rgba(135,206,250,0.10735305);\">this</span> <span style=\"background-color:rgba(135,206,250,0.12614417);\">off</span> <span style=\"background-color:rgba(135,206,250,0.090834044);\">-</span> <span style=\"background-color:rgba(135,206,250,0.36073688);\">dry</span> <span style=\"background-color:rgba(135,206,250,0.20829469);\">wine</span> <span style=\"background-color:rgba(135,206,250,1.0);\">.</span> <span style=\"background-color:rgba(135,206,250,0.20426798);\">a</span> <span style=\"background-color:rgba(135,206,250,0.16574596);\">bit</span>"
      ],
      "text/plain": [
       "<IPython.core.display.HTML object>"
      ]
     },
     "metadata": {},
     "output_type": "display_data"
    },
    {
     "name": "stdout",
     "output_type": "stream",
     "text": [
      "lean:   \t50.59%\n",
      "short:   \t12.18%\n",
      "watery:   \t6.43%\n",
      "sharp:   \t5.99%\n",
      "bitter:   \t2.58%\n",
      "--------\n",
      "\n"
     ]
    },
    {
     "data": {
      "text/html": [
       "<span style=\"background-color:rgba(135,206,250,0.049596116);\">wine</span> <span style=\"background-color:rgba(135,206,250,0.057863697);\">review</span> <span style=\"background-color:rgba(135,206,250,0.07449331);\">:</span> <span style=\"background-color:rgba(135,206,250,0.34511718);\">germany</span> <span style=\"background-color:rgba(135,206,250,0.05500049);\">:</span> <span style=\"background-color:rgba(135,206,250,0.15921861);\">mosel</span> <span style=\"background-color:rgba(135,206,250,0.068672545);\">:</span> <span style=\"background-color:rgba(135,206,250,0.3418434);\">riesling</span> <span style=\"background-color:rgba(135,206,250,0.08060714);\">:</span> <span style=\"background-color:rgba(135,206,250,0.040382132);\">a</span> <span style=\"background-color:rgba(135,206,250,0.0846944);\">whiff</span> <span style=\"background-color:rgba(135,206,250,0.02835501);\">of</span> <span style=\"background-color:rgba(135,206,250,0.07588614);\">petrol</span> <span style=\"background-color:rgba(135,206,250,0.053155646);\">leads</span> <span style=\"background-color:rgba(135,206,250,0.02725542);\">to</span> <span style=\"background-color:rgba(135,206,250,0.02584502);\">a</span> <span style=\"background-color:rgba(135,206,250,0.044930723);\">slightly</span> <span style=\"background-color:rgba(135,206,250,0.059000034);\">sweet</span> <span style=\"background-color:rgba(135,206,250,0.032518897);\">,</span> <span style=\"background-color:rgba(135,206,250,0.048162177);\">slightly</span> <span style=\"background-color:rgba(135,206,250,0.09086019);\">bitter</span> <span style=\"background-color:rgba(135,206,250,0.091123156);\">almond</span> <span style=\"background-color:rgba(135,206,250,0.14651582);\">flavors</span> <span style=\"background-color:rgba(135,206,250,0.051108576);\">on</span> <span style=\"background-color:rgba(135,206,250,0.05427585);\">the</span> <span style=\"background-color:rgba(135,206,250,0.1818644);\">palate</span> <span style=\"background-color:rgba(135,206,250,0.08204512);\">of</span> <span style=\"background-color:rgba(135,206,250,0.18013695);\">this</span> <span style=\"background-color:rgba(135,206,250,0.11153935);\">off</span> <span style=\"background-color:rgba(135,206,250,0.05790633);\">-</span> <span style=\"background-color:rgba(135,206,250,0.14919706);\">dry</span> <span style=\"background-color:rgba(135,206,250,0.37102082);\">wine</span> <span style=\"background-color:rgba(135,206,250,0.8164615);\">.</span> <span style=\"background-color:rgba(135,206,250,0.56074387);\">a</span> <span style=\"background-color:rgba(135,206,250,1.0);\">bit</span> <span style=\"background-color:rgba(135,206,250,0.5801937);\">bitter</span>"
      ],
      "text/plain": [
       "<IPython.core.display.HTML object>"
      ]
     },
     "metadata": {},
     "output_type": "display_data"
    },
    {
     "name": "stdout",
     "output_type": "stream",
     "text": [
      "in:   \t49.33%\n",
      "on:   \t33.63%\n",
      ",:   \t13.78%\n",
      "and:   \t2.33%\n",
      "but:   \t0.18%\n",
      "--------\n",
      "\n"
     ]
    },
    {
     "data": {
      "text/html": [
       "<span style=\"background-color:rgba(135,206,250,0.057943616);\">wine</span> <span style=\"background-color:rgba(135,206,250,0.065980405);\">review</span> <span style=\"background-color:rgba(135,206,250,0.056078676);\">:</span> <span style=\"background-color:rgba(135,206,250,0.333677);\">germany</span> <span style=\"background-color:rgba(135,206,250,0.046764877);\">:</span> <span style=\"background-color:rgba(135,206,250,0.124462135);\">mosel</span> <span style=\"background-color:rgba(135,206,250,0.063803144);\">:</span> <span style=\"background-color:rgba(135,206,250,0.2200369);\">riesling</span> <span style=\"background-color:rgba(135,206,250,0.06956123);\">:</span> <span style=\"background-color:rgba(135,206,250,0.04125051);\">a</span> <span style=\"background-color:rgba(135,206,250,0.081385925);\">whiff</span> <span style=\"background-color:rgba(135,206,250,0.033380024);\">of</span> <span style=\"background-color:rgba(135,206,250,0.07451365);\">petrol</span> <span style=\"background-color:rgba(135,206,250,0.080442116);\">leads</span> <span style=\"background-color:rgba(135,206,250,0.033673346);\">to</span> <span style=\"background-color:rgba(135,206,250,0.032029405);\">a</span> <span style=\"background-color:rgba(135,206,250,0.04320866);\">slightly</span> <span style=\"background-color:rgba(135,206,250,0.054593112);\">sweet</span> <span style=\"background-color:rgba(135,206,250,0.03310824);\">,</span> <span style=\"background-color:rgba(135,206,250,0.0471453);\">slightly</span> <span style=\"background-color:rgba(135,206,250,0.098339595);\">bitter</span> <span style=\"background-color:rgba(135,206,250,0.0832138);\">almond</span> <span style=\"background-color:rgba(135,206,250,0.15692517);\">flavors</span> <span style=\"background-color:rgba(135,206,250,0.04716464);\">on</span> <span style=\"background-color:rgba(135,206,250,0.061539702);\">the</span> <span style=\"background-color:rgba(135,206,250,0.22917108);\">palate</span> <span style=\"background-color:rgba(135,206,250,0.06235758);\">of</span> <span style=\"background-color:rgba(135,206,250,0.2509084);\">this</span> <span style=\"background-color:rgba(135,206,250,0.142547);\">off</span> <span style=\"background-color:rgba(135,206,250,0.12172804);\">-</span> <span style=\"background-color:rgba(135,206,250,0.2776608);\">dry</span> <span style=\"background-color:rgba(135,206,250,0.4280411);\">wine</span> <span style=\"background-color:rgba(135,206,250,0.78324544);\">.</span> <span style=\"background-color:rgba(135,206,250,0.4577656);\">a</span> <span style=\"background-color:rgba(135,206,250,0.5223262);\">bit</span> <span style=\"background-color:rgba(135,206,250,1.0);\">bitter</span> <span style=\"background-color:rgba(135,206,250,0.35171217);\">on</span>"
      ],
      "text/plain": [
       "<IPython.core.display.HTML object>"
      ]
     },
     "metadata": {},
     "output_type": "display_data"
    },
    {
     "name": "stdout",
     "output_type": "stream",
     "text": [
      "the:   \t99.96%\n",
      "its:   \t0.04%\n",
      "it:   \t0.0%\n",
      "a:   \t0.0%\n",
      "entrance:   \t0.0%\n",
      "--------\n",
      "\n"
     ]
    },
    {
     "data": {
      "text/html": [
       "<span style=\"background-color:rgba(135,206,250,0.048923608);\">wine</span> <span style=\"background-color:rgba(135,206,250,0.04439336);\">review</span> <span style=\"background-color:rgba(135,206,250,0.058572028);\">:</span> <span style=\"background-color:rgba(135,206,250,0.35642937);\">germany</span> <span style=\"background-color:rgba(135,206,250,0.04051253);\">:</span> <span style=\"background-color:rgba(135,206,250,0.14634317);\">mosel</span> <span style=\"background-color:rgba(135,206,250,0.044524107);\">:</span> <span style=\"background-color:rgba(135,206,250,0.261612);\">riesling</span> <span style=\"background-color:rgba(135,206,250,0.05119139);\">:</span> <span style=\"background-color:rgba(135,206,250,0.024287745);\">a</span> <span style=\"background-color:rgba(135,206,250,0.09807325);\">whiff</span> <span style=\"background-color:rgba(135,206,250,0.02079982);\">of</span> <span style=\"background-color:rgba(135,206,250,0.075727195);\">petrol</span> <span style=\"background-color:rgba(135,206,250,0.051212806);\">leads</span> <span style=\"background-color:rgba(135,206,250,0.020551268);\">to</span> <span style=\"background-color:rgba(135,206,250,0.017980006);\">a</span> <span style=\"background-color:rgba(135,206,250,0.044397667);\">slightly</span> <span style=\"background-color:rgba(135,206,250,0.08904155);\">sweet</span> <span style=\"background-color:rgba(135,206,250,0.025268987);\">,</span> <span style=\"background-color:rgba(135,206,250,0.04558696);\">slightly</span> <span style=\"background-color:rgba(135,206,250,0.14762382);\">bitter</span> <span style=\"background-color:rgba(135,206,250,0.08115726);\">almond</span> <span style=\"background-color:rgba(135,206,250,0.1821723);\">flavors</span> <span style=\"background-color:rgba(135,206,250,0.044639666);\">on</span> <span style=\"background-color:rgba(135,206,250,0.023325127);\">the</span> <span style=\"background-color:rgba(135,206,250,0.29701748);\">palate</span> <span style=\"background-color:rgba(135,206,250,0.048812933);\">of</span> <span style=\"background-color:rgba(135,206,250,0.07919573);\">this</span> <span style=\"background-color:rgba(135,206,250,0.16025233);\">off</span> <span style=\"background-color:rgba(135,206,250,0.05039557);\">-</span> <span style=\"background-color:rgba(135,206,250,0.2258125);\">dry</span> <span style=\"background-color:rgba(135,206,250,0.27230915);\">wine</span> <span style=\"background-color:rgba(135,206,250,0.69588166);\">.</span> <span style=\"background-color:rgba(135,206,250,0.13823266);\">a</span> <span style=\"background-color:rgba(135,206,250,0.345008);\">bit</span> <span style=\"background-color:rgba(135,206,250,0.9066941);\">bitter</span> <span style=\"background-color:rgba(135,206,250,1.0);\">on</span> <span style=\"background-color:rgba(135,206,250,0.35772106);\">the</span>"
      ],
      "text/plain": [
       "<IPython.core.display.HTML object>"
      ]
     },
     "metadata": {},
     "output_type": "display_data"
    },
    {
     "name": "stdout",
     "output_type": "stream",
     "text": [
      "finish:   \t98.64%\n",
      "palate:   \t1.27%\n",
      "midpalate:   \t0.08%\n",
      "tongue:   \t0.0%\n",
      "bitter:   \t0.0%\n",
      "--------\n",
      "\n"
     ]
    },
    {
     "data": {
      "text/html": [
       "<span style=\"background-color:rgba(135,206,250,0.046402797);\">wine</span> <span style=\"background-color:rgba(135,206,250,0.070794955);\">review</span> <span style=\"background-color:rgba(135,206,250,0.0535168);\">:</span> <span style=\"background-color:rgba(135,206,250,0.3706258);\">germany</span> <span style=\"background-color:rgba(135,206,250,0.05626103);\">:</span> <span style=\"background-color:rgba(135,206,250,0.13998273);\">mosel</span> <span style=\"background-color:rgba(135,206,250,0.06776486);\">:</span> <span style=\"background-color:rgba(135,206,250,0.15055138);\">riesling</span> <span style=\"background-color:rgba(135,206,250,0.072502695);\">:</span> <span style=\"background-color:rgba(135,206,250,0.03593911);\">a</span> <span style=\"background-color:rgba(135,206,250,0.07270854);\">whiff</span> <span style=\"background-color:rgba(135,206,250,0.035757855);\">of</span> <span style=\"background-color:rgba(135,206,250,0.061661102);\">petrol</span> <span style=\"background-color:rgba(135,206,250,0.079180606);\">leads</span> <span style=\"background-color:rgba(135,206,250,0.029208962);\">to</span> <span style=\"background-color:rgba(135,206,250,0.026624497);\">a</span> <span style=\"background-color:rgba(135,206,250,0.038872175);\">slightly</span> <span style=\"background-color:rgba(135,206,250,0.056382);\">sweet</span> <span style=\"background-color:rgba(135,206,250,0.027907355);\">,</span> <span style=\"background-color:rgba(135,206,250,0.042415682);\">slightly</span> <span style=\"background-color:rgba(135,206,250,0.0864572);\">bitter</span> <span style=\"background-color:rgba(135,206,250,0.061745025);\">almond</span> <span style=\"background-color:rgba(135,206,250,0.09241004);\">flavors</span> <span style=\"background-color:rgba(135,206,250,0.06602395);\">on</span> <span style=\"background-color:rgba(135,206,250,0.053507276);\">the</span> <span style=\"background-color:rgba(135,206,250,0.09673089);\">palate</span> <span style=\"background-color:rgba(135,206,250,0.07345046);\">of</span> <span style=\"background-color:rgba(135,206,250,0.13419564);\">this</span> <span style=\"background-color:rgba(135,206,250,0.07555448);\">off</span> <span style=\"background-color:rgba(135,206,250,0.06095648);\">-</span> <span style=\"background-color:rgba(135,206,250,0.17701022);\">dry</span> <span style=\"background-color:rgba(135,206,250,0.1647567);\">wine</span> <span style=\"background-color:rgba(135,206,250,0.78586465);\">.</span> <span style=\"background-color:rgba(135,206,250,0.30514923);\">a</span> <span style=\"background-color:rgba(135,206,250,0.21926782);\">bit</span> <span style=\"background-color:rgba(135,206,250,0.46654812);\">bitter</span> <span style=\"background-color:rgba(135,206,250,1.0);\">on</span> <span style=\"background-color:rgba(135,206,250,0.9045972);\">the</span> <span style=\"background-color:rgba(135,206,250,0.59386057);\">finish</span>"
      ],
      "text/plain": [
       "<IPython.core.display.HTML object>"
      ]
     },
     "metadata": {},
     "output_type": "display_data"
    },
    {
     "name": "stdout",
     "output_type": "stream",
     "text": [
      ",:   \t70.98%\n",
      ".:   \t27.78%\n",
      "is:   \t0.42%\n",
      "but:   \t0.28%\n",
      "with:   \t0.15%\n",
      "--------\n",
      "\n"
     ]
    },
    {
     "data": {
      "text/html": [
       "<span style=\"background-color:rgba(135,206,250,0.08441565);\">wine</span> <span style=\"background-color:rgba(135,206,250,0.07324015);\">review</span> <span style=\"background-color:rgba(135,206,250,0.33376127);\">:</span> <span style=\"background-color:rgba(135,206,250,0.5309204);\">germany</span> <span style=\"background-color:rgba(135,206,250,0.12846091);\">:</span> <span style=\"background-color:rgba(135,206,250,0.19660112);\">mosel</span> <span style=\"background-color:rgba(135,206,250,0.181748);\">:</span> <span style=\"background-color:rgba(135,206,250,0.33015954);\">riesling</span> <span style=\"background-color:rgba(135,206,250,0.102586925);\">:</span> <span style=\"background-color:rgba(135,206,250,0.050991595);\">a</span> <span style=\"background-color:rgba(135,206,250,0.080180965);\">whiff</span> <span style=\"background-color:rgba(135,206,250,0.04028721);\">of</span> <span style=\"background-color:rgba(135,206,250,0.08760923);\">petrol</span> <span style=\"background-color:rgba(135,206,250,0.08297364);\">leads</span> <span style=\"background-color:rgba(135,206,250,0.03181906);\">to</span> <span style=\"background-color:rgba(135,206,250,0.03487379);\">a</span> <span style=\"background-color:rgba(135,206,250,0.055404298);\">slightly</span> <span style=\"background-color:rgba(135,206,250,0.082908705);\">sweet</span> <span style=\"background-color:rgba(135,206,250,0.034446266);\">,</span> <span style=\"background-color:rgba(135,206,250,0.059543215);\">slightly</span> <span style=\"background-color:rgba(135,206,250,0.13108696);\">bitter</span> <span style=\"background-color:rgba(135,206,250,0.09467848);\">almond</span> <span style=\"background-color:rgba(135,206,250,0.18122932);\">flavors</span> <span style=\"background-color:rgba(135,206,250,0.052229177);\">on</span> <span style=\"background-color:rgba(135,206,250,0.0408255);\">the</span> <span style=\"background-color:rgba(135,206,250,0.2737869);\">palate</span> <span style=\"background-color:rgba(135,206,250,0.061056092);\">of</span> <span style=\"background-color:rgba(135,206,250,0.18671381);\">this</span> <span style=\"background-color:rgba(135,206,250,0.14699383);\">off</span> <span style=\"background-color:rgba(135,206,250,0.0743402);\">-</span> <span style=\"background-color:rgba(135,206,250,0.17992789);\">dry</span> <span style=\"background-color:rgba(135,206,250,0.21539262);\">wine</span> <span style=\"background-color:rgba(135,206,250,0.3068271);\">.</span> <span style=\"background-color:rgba(135,206,250,0.14857692);\">a</span> <span style=\"background-color:rgba(135,206,250,0.20864977);\">bit</span> <span style=\"background-color:rgba(135,206,250,0.37976167);\">bitter</span> <span style=\"background-color:rgba(135,206,250,0.19836017);\">on</span> <span style=\"background-color:rgba(135,206,250,0.1711735);\">the</span> <span style=\"background-color:rgba(135,206,250,1.0);\">finish</span> <span style=\"background-color:rgba(135,206,250,0.57624674);\">.</span>"
      ],
      "text/plain": [
       "<IPython.core.display.HTML object>"
      ]
     },
     "metadata": {},
     "output_type": "display_data"
    },
    {
     "name": "stdout",
     "output_type": "stream",
     "text": [
      ":   \t99.61%\n",
      "drink:   \t0.28%\n",
      "it:   \t0.1%\n",
      "the:   \t0.01%\n",
      "serve:   \t0.0%\n",
      "--------\n",
      "\n"
     ]
    }
   ],
   "source": [
    "info = text_generator.generate(\n",
    "    \"wine review : germany\", max_tokens=80, temperature=0.5\n",
    ")\n",
    "print_probs(info, vocab)"
   ]
  },
  {
   "cell_type": "code",
   "execution_count": null,
   "metadata": {},
   "outputs": [],
   "source": []
  }
 ],
 "metadata": {
  "kernelspec": {
   "display_name": "PJ",
   "language": "python",
   "name": "python3"
  },
  "language_info": {
   "codemirror_mode": {
    "name": "ipython",
    "version": 3
   },
   "file_extension": ".py",
   "mimetype": "text/x-python",
   "name": "python",
   "nbconvert_exporter": "python",
   "pygments_lexer": "ipython3",
   "version": "3.10.10"
  },
  "orig_nbformat": 4
 },
 "nbformat": 4,
 "nbformat_minor": 2
}
